{
 "cells": [
  {
   "cell_type": "markdown",
   "metadata": {},
   "source": [
    "# Date A Scientist: Making Predictions with Machine Learning "
   ]
  },
  {
   "cell_type": "markdown",
   "metadata": {},
   "source": [
    "## Project Goals"
   ]
  },
  {
   "cell_type": "markdown",
   "metadata": {},
   "source": [
    "This project analyzes data from online dating OKCupid profiles. The purpose is to practice using machine learning techniques to answer questions about the data. This project was completed in Jupyter Notebook.\n",
    "\n",
    "The goal of this project is to use data anaysis learned from codecademy to explore and visualize the data. I will use machine learning to answer a research question. The question I will be trying to answer with this project is whether body type can be predicted by other aspects of a persons profile"
   ]
  },
  {
   "cell_type": "markdown",
   "metadata": {},
   "source": [
    "## Analysis"
   ]
  },
  {
   "cell_type": "markdown",
   "metadata": {},
   "source": [
    "I will be using data visuialization techniques to look at counts, trends, and associations of variables in the first section of this project. In the second part I will use a machine learning classification algorithm to predict body type from other variables on a profile. This could be useful to get a better understanding of what a person looks like if their profile has limited pictures"
   ]
  },
  {
   "cell_type": "markdown",
   "metadata": {},
   "source": [
    "## Loading and Previewing the Data"
   ]
  },
  {
   "cell_type": "markdown",
   "metadata": {},
   "source": [
    "Once the necessary libraries have been imported and the data set has been loaded from a CSV file, the data can be previewed to get a sense of what information it contains. "
   ]
  },
  {
   "cell_type": "code",
   "execution_count": 1,
   "metadata": {},
   "outputs": [],
   "source": [
    "#importing necessary libraries\n",
    "import numpy as np\n",
    "import matplotlib.pyplot as plt\n",
    "import pandas as pd\n",
    "import seaborn as sns\n"
   ]
  },
  {
   "cell_type": "code",
   "execution_count": 2,
   "metadata": {},
   "outputs": [
    {
     "data": {
      "text/html": [
       "<div>\n",
       "<style scoped>\n",
       "    .dataframe tbody tr th:only-of-type {\n",
       "        vertical-align: middle;\n",
       "    }\n",
       "\n",
       "    .dataframe tbody tr th {\n",
       "        vertical-align: top;\n",
       "    }\n",
       "\n",
       "    .dataframe thead th {\n",
       "        text-align: right;\n",
       "    }\n",
       "</style>\n",
       "<table border=\"1\" class=\"dataframe\">\n",
       "  <thead>\n",
       "    <tr style=\"text-align: right;\">\n",
       "      <th></th>\n",
       "      <th>age</th>\n",
       "      <th>body_type</th>\n",
       "      <th>diet</th>\n",
       "      <th>drinks</th>\n",
       "      <th>drugs</th>\n",
       "      <th>education</th>\n",
       "      <th>essay0</th>\n",
       "      <th>essay1</th>\n",
       "      <th>essay2</th>\n",
       "      <th>essay3</th>\n",
       "      <th>...</th>\n",
       "      <th>location</th>\n",
       "      <th>offspring</th>\n",
       "      <th>orientation</th>\n",
       "      <th>pets</th>\n",
       "      <th>religion</th>\n",
       "      <th>sex</th>\n",
       "      <th>sign</th>\n",
       "      <th>smokes</th>\n",
       "      <th>speaks</th>\n",
       "      <th>status</th>\n",
       "    </tr>\n",
       "  </thead>\n",
       "  <tbody>\n",
       "    <tr>\n",
       "      <th>0</th>\n",
       "      <td>22</td>\n",
       "      <td>a little extra</td>\n",
       "      <td>strictly anything</td>\n",
       "      <td>socially</td>\n",
       "      <td>never</td>\n",
       "      <td>working on college/university</td>\n",
       "      <td>about me:&lt;br /&gt;\\n&lt;br /&gt;\\ni would love to think...</td>\n",
       "      <td>currently working as an international agent fo...</td>\n",
       "      <td>making people laugh.&lt;br /&gt;\\nranting about a go...</td>\n",
       "      <td>the way i look. i am a six foot half asian, ha...</td>\n",
       "      <td>...</td>\n",
       "      <td>south san francisco, california</td>\n",
       "      <td>doesn&amp;rsquo;t have kids, but might want them</td>\n",
       "      <td>straight</td>\n",
       "      <td>likes dogs and likes cats</td>\n",
       "      <td>agnosticism and very serious about it</td>\n",
       "      <td>m</td>\n",
       "      <td>gemini</td>\n",
       "      <td>sometimes</td>\n",
       "      <td>english</td>\n",
       "      <td>single</td>\n",
       "    </tr>\n",
       "    <tr>\n",
       "      <th>1</th>\n",
       "      <td>35</td>\n",
       "      <td>average</td>\n",
       "      <td>mostly other</td>\n",
       "      <td>often</td>\n",
       "      <td>sometimes</td>\n",
       "      <td>working on space camp</td>\n",
       "      <td>i am a chef: this is what that means.&lt;br /&gt;\\n1...</td>\n",
       "      <td>dedicating everyday to being an unbelievable b...</td>\n",
       "      <td>being silly. having ridiculous amonts of fun w...</td>\n",
       "      <td>NaN</td>\n",
       "      <td>...</td>\n",
       "      <td>oakland, california</td>\n",
       "      <td>doesn&amp;rsquo;t have kids, but might want them</td>\n",
       "      <td>straight</td>\n",
       "      <td>likes dogs and likes cats</td>\n",
       "      <td>agnosticism but not too serious about it</td>\n",
       "      <td>m</td>\n",
       "      <td>cancer</td>\n",
       "      <td>no</td>\n",
       "      <td>english (fluently), spanish (poorly), french (...</td>\n",
       "      <td>single</td>\n",
       "    </tr>\n",
       "    <tr>\n",
       "      <th>2</th>\n",
       "      <td>38</td>\n",
       "      <td>thin</td>\n",
       "      <td>anything</td>\n",
       "      <td>socially</td>\n",
       "      <td>NaN</td>\n",
       "      <td>graduated from masters program</td>\n",
       "      <td>i'm not ashamed of much, but writing public te...</td>\n",
       "      <td>i make nerdy software for musicians, artists, ...</td>\n",
       "      <td>improvising in different contexts. alternating...</td>\n",
       "      <td>my large jaw and large glasses are the physica...</td>\n",
       "      <td>...</td>\n",
       "      <td>san francisco, california</td>\n",
       "      <td>NaN</td>\n",
       "      <td>straight</td>\n",
       "      <td>has cats</td>\n",
       "      <td>NaN</td>\n",
       "      <td>m</td>\n",
       "      <td>pisces but it doesn&amp;rsquo;t matter</td>\n",
       "      <td>no</td>\n",
       "      <td>english, french, c++</td>\n",
       "      <td>available</td>\n",
       "    </tr>\n",
       "    <tr>\n",
       "      <th>3</th>\n",
       "      <td>23</td>\n",
       "      <td>thin</td>\n",
       "      <td>vegetarian</td>\n",
       "      <td>socially</td>\n",
       "      <td>NaN</td>\n",
       "      <td>working on college/university</td>\n",
       "      <td>i work in a library and go to school. . .</td>\n",
       "      <td>reading things written by old dead people</td>\n",
       "      <td>playing synthesizers and organizing books acco...</td>\n",
       "      <td>socially awkward but i do my best</td>\n",
       "      <td>...</td>\n",
       "      <td>berkeley, california</td>\n",
       "      <td>doesn&amp;rsquo;t want kids</td>\n",
       "      <td>straight</td>\n",
       "      <td>likes cats</td>\n",
       "      <td>NaN</td>\n",
       "      <td>m</td>\n",
       "      <td>pisces</td>\n",
       "      <td>no</td>\n",
       "      <td>english, german (poorly)</td>\n",
       "      <td>single</td>\n",
       "    </tr>\n",
       "    <tr>\n",
       "      <th>4</th>\n",
       "      <td>29</td>\n",
       "      <td>athletic</td>\n",
       "      <td>NaN</td>\n",
       "      <td>socially</td>\n",
       "      <td>never</td>\n",
       "      <td>graduated from college/university</td>\n",
       "      <td>hey how's it going? currently vague on the pro...</td>\n",
       "      <td>work work work work + play</td>\n",
       "      <td>creating imagery to look at:&lt;br /&gt;\\nhttp://bag...</td>\n",
       "      <td>i smile a lot and my inquisitive nature</td>\n",
       "      <td>...</td>\n",
       "      <td>san francisco, california</td>\n",
       "      <td>NaN</td>\n",
       "      <td>straight</td>\n",
       "      <td>likes dogs and likes cats</td>\n",
       "      <td>NaN</td>\n",
       "      <td>m</td>\n",
       "      <td>aquarius</td>\n",
       "      <td>no</td>\n",
       "      <td>english</td>\n",
       "      <td>single</td>\n",
       "    </tr>\n",
       "  </tbody>\n",
       "</table>\n",
       "<p>5 rows × 31 columns</p>\n",
       "</div>"
      ],
      "text/plain": [
       "   age       body_type               diet    drinks      drugs  \\\n",
       "0   22  a little extra  strictly anything  socially      never   \n",
       "1   35         average       mostly other     often  sometimes   \n",
       "2   38            thin           anything  socially        NaN   \n",
       "3   23            thin         vegetarian  socially        NaN   \n",
       "4   29        athletic                NaN  socially      never   \n",
       "\n",
       "                           education  \\\n",
       "0      working on college/university   \n",
       "1              working on space camp   \n",
       "2     graduated from masters program   \n",
       "3      working on college/university   \n",
       "4  graduated from college/university   \n",
       "\n",
       "                                              essay0  \\\n",
       "0  about me:<br />\\n<br />\\ni would love to think...   \n",
       "1  i am a chef: this is what that means.<br />\\n1...   \n",
       "2  i'm not ashamed of much, but writing public te...   \n",
       "3          i work in a library and go to school. . .   \n",
       "4  hey how's it going? currently vague on the pro...   \n",
       "\n",
       "                                              essay1  \\\n",
       "0  currently working as an international agent fo...   \n",
       "1  dedicating everyday to being an unbelievable b...   \n",
       "2  i make nerdy software for musicians, artists, ...   \n",
       "3          reading things written by old dead people   \n",
       "4                         work work work work + play   \n",
       "\n",
       "                                              essay2  \\\n",
       "0  making people laugh.<br />\\nranting about a go...   \n",
       "1  being silly. having ridiculous amonts of fun w...   \n",
       "2  improvising in different contexts. alternating...   \n",
       "3  playing synthesizers and organizing books acco...   \n",
       "4  creating imagery to look at:<br />\\nhttp://bag...   \n",
       "\n",
       "                                              essay3  ...  \\\n",
       "0  the way i look. i am a six foot half asian, ha...  ...   \n",
       "1                                                NaN  ...   \n",
       "2  my large jaw and large glasses are the physica...  ...   \n",
       "3                  socially awkward but i do my best  ...   \n",
       "4            i smile a lot and my inquisitive nature  ...   \n",
       "\n",
       "                          location  \\\n",
       "0  south san francisco, california   \n",
       "1              oakland, california   \n",
       "2        san francisco, california   \n",
       "3             berkeley, california   \n",
       "4        san francisco, california   \n",
       "\n",
       "                                      offspring orientation  \\\n",
       "0  doesn&rsquo;t have kids, but might want them    straight   \n",
       "1  doesn&rsquo;t have kids, but might want them    straight   \n",
       "2                                           NaN    straight   \n",
       "3                       doesn&rsquo;t want kids    straight   \n",
       "4                                           NaN    straight   \n",
       "\n",
       "                        pets                                  religion sex  \\\n",
       "0  likes dogs and likes cats     agnosticism and very serious about it   m   \n",
       "1  likes dogs and likes cats  agnosticism but not too serious about it   m   \n",
       "2                   has cats                                       NaN   m   \n",
       "3                 likes cats                                       NaN   m   \n",
       "4  likes dogs and likes cats                                       NaN   m   \n",
       "\n",
       "                                 sign     smokes  \\\n",
       "0                              gemini  sometimes   \n",
       "1                              cancer         no   \n",
       "2  pisces but it doesn&rsquo;t matter         no   \n",
       "3                              pisces         no   \n",
       "4                            aquarius         no   \n",
       "\n",
       "                                              speaks     status  \n",
       "0                                            english     single  \n",
       "1  english (fluently), spanish (poorly), french (...     single  \n",
       "2                               english, french, c++  available  \n",
       "3                           english, german (poorly)     single  \n",
       "4                                            english     single  \n",
       "\n",
       "[5 rows x 31 columns]"
      ]
     },
     "execution_count": 2,
     "metadata": {},
     "output_type": "execute_result"
    }
   ],
   "source": [
    "#loading data and previewing \n",
    "data=pd.read_csv(\"profiles.csv\", encoding='utf-8')\n",
    "data.head()\n",
    "\n"
   ]
  },
  {
   "cell_type": "markdown",
   "metadata": {},
   "source": [
    "### Data Characteristics"
   ]
  },
  {
   "cell_type": "markdown",
   "metadata": {},
   "source": [
    "With a preview of the data, we can start to see the different types of information it contains. Because there are so many column columns, some of them are cut off in the table below. In order to get a full view of the data, the columns and data type are printed below."
   ]
  },
  {
   "cell_type": "code",
   "execution_count": 3,
   "metadata": {},
   "outputs": [
    {
     "name": "stdout",
     "output_type": "stream",
     "text": [
      "Total number of columns:  31\n",
      "Total number of Profiles:  59946\n",
      "age              int64\n",
      "body_type       object\n",
      "diet            object\n",
      "drinks          object\n",
      "drugs           object\n",
      "education       object\n",
      "essay0          object\n",
      "essay1          object\n",
      "essay2          object\n",
      "essay3          object\n",
      "essay4          object\n",
      "essay5          object\n",
      "essay6          object\n",
      "essay7          object\n",
      "essay8          object\n",
      "essay9          object\n",
      "ethnicity       object\n",
      "height         float64\n",
      "income           int64\n",
      "job             object\n",
      "last_online     object\n",
      "location        object\n",
      "offspring       object\n",
      "orientation     object\n",
      "pets            object\n",
      "religion        object\n",
      "sex             object\n",
      "sign            object\n",
      "smokes          object\n",
      "speaks          object\n",
      "status          object\n",
      "dtype: object\n"
     ]
    }
   ],
   "source": [
    "print(\"Total number of columns: \", len(data.columns))\n",
    "print(\"Total number of Profiles: \", len(data))\n",
    "print(data.dtypes)"
   ]
  },
  {
   "cell_type": "markdown",
   "metadata": {},
   "source": [
    "From the preview of the data and the full print of columns and data types, we can categorize the data types of each column below. \n",
    "\n",
    "Columns: \n",
    "- **age**: continuous   \n",
    "- **body_type**: categorical\n",
    "- **diet**: categorical\n",
    "- **drinks**: categorical\n",
    "- **drugs**: categorical\n",
    "- **education**:categorical\n",
    "- **ethnicity**: categorical\n",
    "- **height**: continuous\n",
    "- **income**: continuous\n",
    "- **job**: categorical\n",
    "- **last_online**: date\n",
    "- **location**: categorical\n",
    "- **offspring**: categorical\n",
    "- **orientation**: categorical\n",
    "- **pets**: categorical\n",
    "- **religion**: categorical\n",
    "- **sex**: categorical\n",
    "- **sign**: categorical\n",
    "- **smokes**: categorical\n",
    "- **speaks**: categorical\n",
    "- **status**: categorical\n",
    "\n",
    "And a set of open ended essay answers: \n",
    "- **essay0:** My self summary\n",
    "- **essay1:**  What I’m doing with my life\n",
    "- **essay2:** I’m really good at\n",
    "- **essay3:** The first thing people usually notice about me\n",
    "- **essay4:** Favorite books, movies, show, music, and food\n",
    "- **essay5:** The six things I could never do without\n",
    "- **essay6:** I spend a lot of time thinking about\n",
    "- **essay7:** On a typical Friday night I am\n",
    "- **essay8:** The most private thing I am willing to admit\n",
    "- **essay9:** You should message me if…"
   ]
  },
  {
   "cell_type": "markdown",
   "metadata": {},
   "source": [
    "By printing the unique values of answers in each column, we can see that some columns, like body type or status, have just a few categories that people can choose from, while others, like education are more open-ended. Categories with just a few options could split the data into subsets worth investigating, but more ope-ended answers likely have just a few people in each. "
   ]
  },
  {
   "cell_type": "code",
   "execution_count": 4,
   "metadata": {},
   "outputs": [
    {
     "name": "stdout",
     "output_type": "stream",
     "text": [
      "body_type\n",
      "['a little extra' 'average' 'thin' 'athletic' 'fit' nan 'skinny' 'curvy'\n",
      " 'full figured' 'jacked' 'rather not say' 'used up' 'overweight']\n",
      "status\n",
      "['single' 'available' 'seeing someone' 'married' 'unknown']\n",
      "smokes\n",
      "['sometimes' 'no' nan 'when drinking' 'yes' 'trying to quit']\n",
      "orientation\n",
      "['straight' 'bisexual' 'gay']\n",
      "diet\n",
      "['strictly anything' 'mostly other' 'anything' 'vegetarian' nan\n",
      " 'mostly anything' 'mostly vegetarian' 'strictly vegan'\n",
      " 'strictly vegetarian' 'mostly vegan' 'strictly other' 'mostly halal'\n",
      " 'other' 'vegan' 'mostly kosher' 'strictly halal' 'halal'\n",
      " 'strictly kosher' 'kosher']\n",
      "drugs\n",
      "['never' 'sometimes' nan 'often']\n",
      "drinks\n",
      "['socially' 'often' 'not at all' 'rarely' nan 'very often' 'desperately']\n",
      "education\n",
      "['working on college/university' 'working on space camp'\n",
      " 'graduated from masters program' 'graduated from college/university'\n",
      " 'working on two-year college' nan 'graduated from high school'\n",
      " 'working on masters program' 'graduated from space camp'\n",
      " 'college/university' 'dropped out of space camp'\n",
      " 'graduated from ph.d program' 'graduated from law school'\n",
      " 'working on ph.d program' 'two-year college'\n",
      " 'graduated from two-year college' 'working on med school'\n",
      " 'dropped out of college/university' 'space camp'\n",
      " 'graduated from med school' 'dropped out of high school'\n",
      " 'working on high school' 'masters program' 'dropped out of ph.d program'\n",
      " 'dropped out of two-year college' 'dropped out of med school'\n",
      " 'high school' 'working on law school' 'law school'\n",
      " 'dropped out of masters program' 'ph.d program'\n",
      " 'dropped out of law school' 'med school']\n",
      "location\n",
      "['south san francisco, california' 'oakland, california'\n",
      " 'san francisco, california' 'berkeley, california'\n",
      " 'belvedere tiburon, california' 'san mateo, california'\n",
      " 'daly city, california' 'san leandro, california' 'atherton, california'\n",
      " 'san rafael, california' 'walnut creek, california'\n",
      " 'menlo park, california' 'belmont, california' 'san jose, california'\n",
      " 'palo alto, california' 'emeryville, california' 'el granada, california'\n",
      " 'castro valley, california' 'fairfax, california'\n",
      " 'mountain view, california' 'burlingame, california'\n",
      " 'martinez, california' 'pleasant hill, california' 'hayward, california'\n",
      " 'alameda, california' 'vallejo, california' 'benicia, california'\n",
      " 'el cerrito, california' 'mill valley, california' 'richmond, california'\n",
      " 'redwood city, california' 'el sobrante, california'\n",
      " 'stanford, california' 'san pablo, california' 'novato, california'\n",
      " 'pacifica, california' 'lafayette, california'\n",
      " 'half moon bay, california' 'fremont, california' 'orinda, california'\n",
      " 'san anselmo, california' 'corte madera, california' 'albany, california'\n",
      " 'san carlos, california' 'san lorenzo, california'\n",
      " 'foster city, california' 'hercules, california' 'santa cruz, california'\n",
      " 'bolinas, california' 'sausalito, california' 'millbrae, california'\n",
      " 'larkspur, california' 'moraga, california' 'san bruno, california'\n",
      " 'petaluma, california' 'pinole, california' 'san geronimo, california'\n",
      " 'crockett, california' 'boulder, colorado' 'brisbane, california'\n",
      " 'freedom, california' 'montara, california' 'green brae, california'\n",
      " 'woodside, california' 'new york, new york' 'ross, california'\n",
      " 'east palo alto, california' 'san quentin, california' 'portland, oregon'\n",
      " 'rodeo, california' 'hacienda heights, california' 'woodacre, california'\n",
      " 'westlake, california' 'riverside, california' 'rohnert park, california'\n",
      " 'sacramento, california' 'point richmond, california'\n",
      " 'san diego, california' 'canyon country, california' 'tucson, arizona'\n",
      " 'honolulu, hawaii' 'billings, montana' 'west oakland, california'\n",
      " 'kentfield, california' 'milwaukee, wisconsin' 'woodbridge, virginia'\n",
      " 'glencove, california' 'tiburon, california' 'madrid, spain'\n",
      " 'las vegas, nevada' 'peoria, illinois' 'santa monica, california'\n",
      " 'bellwood, illinois' 'los angeles, california' 'moss beach, california'\n",
      " 'nha trang, vietnam' 'hillsborough, california' 'olema, california'\n",
      " 'union city, california' 'colma, california' 'cork, ireland'\n",
      " 'new orleans, louisiana' 'kensington, california'\n",
      " 'redwood shores, california' 'utica, michigan' 'brea, california'\n",
      " 'lagunitas, california' 'stinson beach, california'\n",
      " 'santa clara, california' 'studio city, california' 'concord, california'\n",
      " 'piedmont, california' 'grand rapids, michigan' 'seaside, california'\n",
      " 'leander, texas' 'forest knolls, california' 'edinburgh, united kingdom'\n",
      " 'magalia, california' 'london, united kingdom' 'astoria, new york'\n",
      " 'chicago, illinois' 'orange, california' 'south wellfleet, massachusetts'\n",
      " 'bayshore, california' 'asheville, north carolina'\n",
      " 'los gatos, california' 'boise, idaho' 'islip terrace, new york'\n",
      " 'sunnyvale, california' 'cambridge, massachusetts' 'lake orion, michigan'\n",
      " 'ozone park, new york' 'jackson, mississippi' 'ashland, california'\n",
      " 'south orange, new jersey' 'fort lauderdale, florida'\n",
      " 'minneapolis, minnesota' 'pasadena, california' 'atlanta, georgia'\n",
      " 'salt lake city, utah' 'arcadia, california' 'milpitas, california'\n",
      " 'san antonio, texas' 'port costa, california' 'nicasio, california'\n",
      " 'livingston, california' 'bellingham, washington' 'crowley, texas'\n",
      " 'boston, massachusetts' 'longwood, florida' 'fayetteville, west virginia'\n",
      " 'granite bay, california' 'isla vista, california' 'hilarita, california'\n",
      " 'campbell, california' 'stratford, connecticut' 'santa ana, california'\n",
      " 'santa rosa, california' 'kula, hawaii' 'murfreesboro, tennessee'\n",
      " 'brooklyn, new york' 'north hollywood, california'\n",
      " 'nevada city, california' 'providence, rhode island'\n",
      " 'stockton, california' 'marin city, california'\n",
      " 'washington, district of columbia' 'waterford, california'\n",
      " 'vancouver, british columbia, canada' 'muir beach, california'\n",
      " 'pacheco, california' 'irvine, california' 'kansas city, missouri'\n",
      " 'kassel, germany' 'canyon, california' 'philadelphia, pennsylvania'\n",
      " 'oceanview, california' 'long beach, new york' 'amsterdam, netherlands'\n",
      " 'taunton, massachusetts' 'napa, california' 'austin, texas'\n",
      " 'san luis obispo, california' 'modesto, california'\n",
      " 'bonaduz, switzerland' 'costa mesa, california' 'guadalajara, mexico'\n",
      " 'oakley, california' 'columbus, ohio' 'chico, california'\n",
      " 'south lake tahoe, california' 'vacaville, california' 'miami, florida'\n",
      " 'long beach, california' 'denver, colorado' 'seattle, washington'\n",
      " 'cincinnati, ohio' 'phoenix, arizona' 'rochester, michigan']\n",
      "pets\n",
      "['likes dogs and likes cats' 'has cats' 'likes cats' nan\n",
      " 'has dogs and likes cats' 'likes dogs and has cats'\n",
      " 'likes dogs and dislikes cats' 'has dogs' 'has dogs and dislikes cats'\n",
      " 'likes dogs' 'has dogs and has cats' 'dislikes dogs and has cats'\n",
      " 'dislikes dogs and dislikes cats' 'dislikes cats'\n",
      " 'dislikes dogs and likes cats' 'dislikes dogs']\n",
      "offspring\n",
      "['doesn&rsquo;t have kids, but might want them' nan\n",
      " 'doesn&rsquo;t want kids' 'doesn&rsquo;t have kids, but wants them'\n",
      " 'doesn&rsquo;t have kids' 'wants kids' 'has a kid' 'has kids'\n",
      " 'doesn&rsquo;t have kids, and doesn&rsquo;t want any'\n",
      " 'has kids, but doesn&rsquo;t want more'\n",
      " 'has a kid, but doesn&rsquo;t want more' 'has a kid, and wants more'\n",
      " 'has kids, and might want more' 'might want kids'\n",
      " 'has a kid, and might want more' 'has kids, and wants more']\n",
      "sign\n",
      "['gemini' 'cancer' 'pisces but it doesn&rsquo;t matter' 'pisces'\n",
      " 'aquarius' 'taurus' 'virgo' 'sagittarius'\n",
      " 'gemini but it doesn&rsquo;t matter' 'cancer but it doesn&rsquo;t matter'\n",
      " 'leo but it doesn&rsquo;t matter' nan\n",
      " 'aquarius but it doesn&rsquo;t matter'\n",
      " 'aries and it&rsquo;s fun to think about'\n",
      " 'libra but it doesn&rsquo;t matter'\n",
      " 'pisces and it&rsquo;s fun to think about' 'libra'\n",
      " 'taurus but it doesn&rsquo;t matter'\n",
      " 'sagittarius but it doesn&rsquo;t matter' 'scorpio and it matters a lot'\n",
      " 'gemini and it&rsquo;s fun to think about'\n",
      " 'leo and it&rsquo;s fun to think about'\n",
      " 'cancer and it&rsquo;s fun to think about'\n",
      " 'libra and it&rsquo;s fun to think about'\n",
      " 'aquarius and it&rsquo;s fun to think about'\n",
      " 'virgo but it doesn&rsquo;t matter'\n",
      " 'scorpio and it&rsquo;s fun to think about'\n",
      " 'capricorn but it doesn&rsquo;t matter' 'scorpio'\n",
      " 'capricorn and it&rsquo;s fun to think about' 'leo'\n",
      " 'aries but it doesn&rsquo;t matter' 'aries'\n",
      " 'scorpio but it doesn&rsquo;t matter'\n",
      " 'sagittarius and it&rsquo;s fun to think about'\n",
      " 'libra and it matters a lot' 'taurus and it&rsquo;s fun to think about'\n",
      " 'leo and it matters a lot' 'virgo and it&rsquo;s fun to think about'\n",
      " 'cancer and it matters a lot' 'capricorn' 'pisces and it matters a lot'\n",
      " 'aries and it matters a lot' 'capricorn and it matters a lot'\n",
      " 'aquarius and it matters a lot' 'sagittarius and it matters a lot'\n",
      " 'gemini and it matters a lot' 'taurus and it matters a lot'\n",
      " 'virgo and it matters a lot']\n",
      "religion\n",
      "['agnosticism and very serious about it'\n",
      " 'agnosticism but not too serious about it' nan 'atheism' 'christianity'\n",
      " 'christianity but not too serious about it'\n",
      " 'atheism and laughing about it' 'christianity and very serious about it'\n",
      " 'other' 'catholicism' 'catholicism but not too serious about it'\n",
      " 'catholicism and somewhat serious about it'\n",
      " 'agnosticism and somewhat serious about it'\n",
      " 'catholicism and laughing about it' 'agnosticism and laughing about it'\n",
      " 'agnosticism' 'atheism and somewhat serious about it'\n",
      " 'buddhism but not too serious about it'\n",
      " 'other but not too serious about it' 'buddhism'\n",
      " 'other and laughing about it' 'judaism but not too serious about it'\n",
      " 'buddhism and laughing about it' 'other and somewhat serious about it'\n",
      " 'other and very serious about it' 'hinduism but not too serious about it'\n",
      " 'atheism but not too serious about it' 'judaism'\n",
      " 'christianity and somewhat serious about it'\n",
      " 'hinduism and very serious about it' 'atheism and very serious about it'\n",
      " 'judaism and laughing about it' 'christianity and laughing about it'\n",
      " 'hinduism and laughing about it' 'buddhism and somewhat serious about it'\n",
      " 'islam and very serious about it' 'islam' 'hinduism'\n",
      " 'judaism and somewhat serious about it'\n",
      " 'catholicism and very serious about it'\n",
      " 'judaism and very serious about it'\n",
      " 'hinduism and somewhat serious about it'\n",
      " 'islam but not too serious about it' 'buddhism and very serious about it'\n",
      " 'islam and laughing about it' 'islam and somewhat serious about it']\n"
     ]
    }
   ],
   "source": [
    "#unique answers to categorical questions\n",
    "print(\"body_type\")\n",
    "print(data.body_type.unique())\n",
    "print(\"status\")\n",
    "print(data.status.unique())\n",
    "print(\"smokes\")\n",
    "print(data.smokes.unique())\n",
    "print(\"orientation\")\n",
    "print(data.orientation.unique())\n",
    "print(\"diet\")\n",
    "print(data.diet.unique())\n",
    "print(\"drugs\")\n",
    "print(data.drugs.unique())\n",
    "print(\"drinks\")\n",
    "print(data.drinks.unique())\n",
    "print(\"education\")\n",
    "print(data.education.unique())\n",
    "print(\"location\")\n",
    "print(data.location.unique())\n",
    "print(\"pets\")\n",
    "print(data.pets.unique())\n",
    "print(\"offspring\")\n",
    "print(data.offspring.unique())\n",
    "print(\"sign\")\n",
    "print(data.sign.unique())\n",
    "print(\"religion\")\n",
    "print(data.religion.unique())\n",
    "\n"
   ]
  },
  {
   "cell_type": "markdown",
   "metadata": {},
   "source": [
    "### Summary Statistics"
   ]
  },
  {
   "cell_type": "markdown",
   "metadata": {},
   "source": [
    "Once we know all the variables the data contains, we can calculate some summary statistics that a user may be interested in, such as the total number of people on the app, the breakdown of orientations, and the average age of users."
   ]
  },
  {
   "cell_type": "code",
   "execution_count": 5,
   "metadata": {
    "scrolled": true
   },
   "outputs": [
    {
     "name": "stdout",
     "output_type": "stream",
     "text": [
      "Total number of people:  59946\n",
      "number of straight males:  31073\n",
      "number of straight females:  20533\n",
      "number of gay and bisexual males:  4756\n",
      "number of gay and bisexual females:  3584\n",
      "average user age:  32.0\n"
     ]
    }
   ],
   "source": [
    "#summary statistics of data\n",
    "#exploring counts of profiles\n",
    "print(\"Total number of people: \", len(data))\n",
    "straight_males = data[(data.sex == \"m\") & (data.orientation == 'straight') ].age.count()\n",
    "print(\"number of straight males: \", straight_males)\n",
    "straight_females = data[(data.sex == \"f\") & (data.orientation == 'straight') ].age.count()\n",
    "print(\"number of straight females: \", straight_females)\n",
    "gay_bi_males= data[(data.sex == \"m\") & ((data.orientation == 'gay') | (data.orientation =='bisexual')) ].age.count()\n",
    "print(\"number of gay and bisexual males: \", gay_bi_males)\n",
    "gay_bi_females= data[(data.sex == \"f\") & ((data.orientation == 'gay') | (data.orientation =='bisexual')) ].age.count()\n",
    "print(\"number of gay and bisexual females: \", gay_bi_females)\n",
    "\n",
    "print(\"average user age: \", np.round(data.age.mean(), 0))"
   ]
  },
  {
   "cell_type": "markdown",
   "metadata": {},
   "source": [
    "### Cleaning Data: Removing Qualifiers"
   ]
  },
  {
   "cell_type": "markdown",
   "metadata": {},
   "source": [
    "From previewing the data, we can see that some columns, like religion and sign, contain additional information that create more categories than there need to be. For example, in the first row, the religion column says \"agnosticism and very serious about it\" while the second row says \"agnosticism but not too serious about it\". With all the different qualifiers, there are 45 different categories for religion. For data analysis purposes, it would be easier to process if we get rid of the extra wording and minimize the number of categories. By picking out only the first word in the string and putting that in a new column in the DataFrame, the number of religions can be reduced down to 9. Below, you can see the categories before and after cleaning. The same thing can be done with the sign column, which also contains qualifying text. "
   ]
  },
  {
   "cell_type": "code",
   "execution_count": 6,
   "metadata": {},
   "outputs": [
    {
     "name": "stdout",
     "output_type": "stream",
     "text": [
      "Signs number of categories:  48\n",
      "Categories:  ['gemini' 'cancer' 'pisces but it doesn&rsquo;t matter' 'pisces'\n",
      " 'aquarius' 'taurus' 'virgo' 'sagittarius'\n",
      " 'gemini but it doesn&rsquo;t matter' 'cancer but it doesn&rsquo;t matter'\n",
      " 'leo but it doesn&rsquo;t matter' nan\n",
      " 'aquarius but it doesn&rsquo;t matter'\n",
      " 'aries and it&rsquo;s fun to think about'\n",
      " 'libra but it doesn&rsquo;t matter'\n",
      " 'pisces and it&rsquo;s fun to think about' 'libra'\n",
      " 'taurus but it doesn&rsquo;t matter'\n",
      " 'sagittarius but it doesn&rsquo;t matter' 'scorpio and it matters a lot'\n",
      " 'gemini and it&rsquo;s fun to think about'\n",
      " 'leo and it&rsquo;s fun to think about'\n",
      " 'cancer and it&rsquo;s fun to think about'\n",
      " 'libra and it&rsquo;s fun to think about'\n",
      " 'aquarius and it&rsquo;s fun to think about'\n",
      " 'virgo but it doesn&rsquo;t matter'\n",
      " 'scorpio and it&rsquo;s fun to think about'\n",
      " 'capricorn but it doesn&rsquo;t matter' 'scorpio'\n",
      " 'capricorn and it&rsquo;s fun to think about' 'leo'\n",
      " 'aries but it doesn&rsquo;t matter' 'aries'\n",
      " 'scorpio but it doesn&rsquo;t matter'\n",
      " 'sagittarius and it&rsquo;s fun to think about'\n",
      " 'libra and it matters a lot' 'taurus and it&rsquo;s fun to think about'\n",
      " 'leo and it matters a lot' 'virgo and it&rsquo;s fun to think about'\n",
      " 'cancer and it matters a lot' 'capricorn' 'pisces and it matters a lot'\n",
      " 'aries and it matters a lot' 'capricorn and it matters a lot'\n",
      " 'aquarius and it matters a lot' 'sagittarius and it matters a lot'\n",
      " 'gemini and it matters a lot' 'taurus and it matters a lot'\n",
      " 'virgo and it matters a lot']\n"
     ]
    }
   ],
   "source": [
    "#print number of sign categories before cleaning\n",
    "print(\"Signs number of categories: \", data.sign.nunique())\n",
    "print(\"Categories: \", data.sign.unique())"
   ]
  },
  {
   "cell_type": "code",
   "execution_count": 7,
   "metadata": {},
   "outputs": [
    {
     "name": "stdout",
     "output_type": "stream",
     "text": [
      "Cleaned signs nimber of categories 12\n",
      "Categories:  ['gemini' 'cancer' 'pisces' 'aquarius' 'taurus' 'virgo' 'sagittarius'\n",
      " 'leo' nan 'aries' 'libra' 'scorpio' 'capricorn']\n"
     ]
    }
   ],
   "source": [
    "#create new column, remove any qualifying info, take only first word of sign\n",
    "#print number of categories after cleaning\n",
    "data['sign_cleaned']=data.sign.str.split().str.get(0)\n",
    "print(\"Cleaned signs nimber of categories\", data.sign_cleaned.nunique())\n",
    "print(\"Categories: \", data.sign_cleaned.unique())\n"
   ]
  },
  {
   "cell_type": "code",
   "execution_count": 8,
   "metadata": {},
   "outputs": [
    {
     "name": "stdout",
     "output_type": "stream",
     "text": [
      "Religion number of categories:  45\n",
      "Categories:  ['agnosticism and very serious about it'\n",
      " 'agnosticism but not too serious about it' nan 'atheism' 'christianity'\n",
      " 'christianity but not too serious about it'\n",
      " 'atheism and laughing about it' 'christianity and very serious about it'\n",
      " 'other' 'catholicism' 'catholicism but not too serious about it'\n",
      " 'catholicism and somewhat serious about it'\n",
      " 'agnosticism and somewhat serious about it'\n",
      " 'catholicism and laughing about it' 'agnosticism and laughing about it'\n",
      " 'agnosticism' 'atheism and somewhat serious about it'\n",
      " 'buddhism but not too serious about it'\n",
      " 'other but not too serious about it' 'buddhism'\n",
      " 'other and laughing about it' 'judaism but not too serious about it'\n",
      " 'buddhism and laughing about it' 'other and somewhat serious about it'\n",
      " 'other and very serious about it' 'hinduism but not too serious about it'\n",
      " 'atheism but not too serious about it' 'judaism'\n",
      " 'christianity and somewhat serious about it'\n",
      " 'hinduism and very serious about it' 'atheism and very serious about it'\n",
      " 'judaism and laughing about it' 'christianity and laughing about it'\n",
      " 'hinduism and laughing about it' 'buddhism and somewhat serious about it'\n",
      " 'islam and very serious about it' 'islam' 'hinduism'\n",
      " 'judaism and somewhat serious about it'\n",
      " 'catholicism and very serious about it'\n",
      " 'judaism and very serious about it'\n",
      " 'hinduism and somewhat serious about it'\n",
      " 'islam but not too serious about it' 'buddhism and very serious about it'\n",
      " 'islam and laughing about it' 'islam and somewhat serious about it']\n"
     ]
    }
   ],
   "source": [
    "#print number of religion categories before cleaning\n",
    "print(\"Religion number of categories: \", data.religion.nunique())\n",
    "print(\"Categories: \", data.religion.unique())"
   ]
  },
  {
   "cell_type": "code",
   "execution_count": 9,
   "metadata": {},
   "outputs": [
    {
     "name": "stdout",
     "output_type": "stream",
     "text": [
      "Cleaned religion nimber of categories 9\n",
      "Categories:  ['agnosticism' nan 'atheism' 'christianity' 'other' 'catholicism'\n",
      " 'buddhism' 'judaism' 'hinduism' 'islam']\n"
     ]
    }
   ],
   "source": [
    "#create new column, remove any qualifying info, take only first word of religion\n",
    "#print number of religion categories after cleaning\n",
    "data['religion_cleaned']=data.religion.str.split().str.get(0)\n",
    "print(\"Cleaned religion nimber of categories\", data.religion_cleaned.nunique())\n",
    "print(\"Categories: \", data.religion_cleaned.unique())"
   ]
  },
  {
   "cell_type": "markdown",
   "metadata": {},
   "source": [
    "## Data Visualizations"
   ]
  },
  {
   "cell_type": "markdown",
   "metadata": {},
   "source": [
    "Now we can create visualizations of the data to get a better feel for distributions, counts and possible relationships of the variables in the dataset. "
   ]
  },
  {
   "cell_type": "markdown",
   "metadata": {},
   "source": [
    "### Gender Distribution"
   ]
  },
  {
   "cell_type": "markdown",
   "metadata": {},
   "source": [
    "This chart shows the number of men vs women on the app. It shows that there is a significantly larger number of male profiles than female. "
   ]
  },
  {
   "cell_type": "code",
   "execution_count": 10,
   "metadata": {},
   "outputs": [
    {
     "data": {
      "text/plain": [
       "Text(0.5, 1.0, 'Profiles by gender')"
      ]
     },
     "execution_count": 10,
     "metadata": {},
     "output_type": "execute_result"
    },
    {
     "data": {
      "image/png": "[encoded data removed]",
      "text/plain": [
       "<Figure size 640x480 with 1 Axes>"
      ]
     },
     "metadata": {},
     "output_type": "display_data"
    }
   ],
   "source": [
    "sns.countplot(data=data, y=\"sex\")\n",
    "plt.title(\"Profiles by gender\")"
   ]
  },
  {
   "cell_type": "markdown",
   "metadata": {},
   "source": [
    "### Ages"
   ]
  },
  {
   "cell_type": "markdown",
   "metadata": {},
   "source": [
    "The next three charts take a look at the distribution of ages. The mean is centered around 30, but there is a large distribution. On the second chart, outliers are removed to better see the spread. The third shows the distributions of men's vs women's ages. It shows that the two genders have a pretty similar center and spread. Earlier, we calculated the mean and median ages of users to be 32 and 30 respectively. When the outliers are removed and only users under 50 are considered, those numbers shift slightly down to 31 and 29. "
   ]
  },
  {
   "cell_type": "code",
   "execution_count": 11,
   "metadata": {},
   "outputs": [
    {
     "name": "stdout",
     "output_type": "stream",
     "text": [
      "average user age:  32.0\n"
     ]
    },
    {
     "data": {
      "image/png": "[encoded data removed]",
      "text/plain": [
       "<Figure size 640x480 with 1 Axes>"
      ]
     },
     "metadata": {},
     "output_type": "display_data"
    }
   ],
   "source": [
    "#summary statistics\n",
    "#exploring ages\n",
    "\n",
    "print(\"average user age: \", np.round(data.age.mean(), 0))\n",
    "plt.figure()\n",
    "sns.boxplot(y=\"age\", data=data)\n",
    "plt.title(\"User Ages\")\n",
    "plt.savefig(\"Ages Boxplot.png\")\n",
    "\n"
   ]
  },
  {
   "cell_type": "code",
   "execution_count": 12,
   "metadata": {},
   "outputs": [
    {
     "name": "stdout",
     "output_type": "stream",
     "text": [
      "average user age (outliers removed):  31.0\n"
     ]
    },
    {
     "data": {
      "image/png": "[encoded data removed]",
      "text/plain": [
       "<Figure size 640x480 with 1 Axes>"
      ]
     },
     "metadata": {},
     "output_type": "display_data"
    }
   ],
   "source": [
    "#removing outliers (any ages over 50)\n",
    "data_under_50 = data[data.age<50]\n",
    "print(\"average user age (outliers removed): \", np.round(data_under_50.age.mean(), 0))\n",
    "plt.figure()\n",
    "sns.boxplot(y=\"age\", data = data_under_50)\n",
    "plt.title(\"Users Under 50 Ages\")\n",
    "plt.savefig(\"Ages Under 50 Boxplot.png\")"
   ]
  },
  {
   "cell_type": "code",
   "execution_count": 13,
   "metadata": {},
   "outputs": [
    {
     "name": "stdout",
     "output_type": "stream",
     "text": [
      "average female user age (outliers removed):  31.0\n",
      "average male user age (outliers removed):  31.0\n"
     ]
    },
    {
     "data": {
      "image/png": "[encoded data removed]",
      "text/plain": [
       "<Figure size 640x480 with 1 Axes>"
      ]
     },
     "metadata": {},
     "output_type": "display_data"
    }
   ],
   "source": [
    "#comparing men and women age under fifty\n",
    "print(\"average female user age (outliers removed): \", np.round(data_under_50[data_under_50[\"sex\"]==\"f\"][\"age\"].mean(), 0))\n",
    "print(\"average male user age (outliers removed): \", np.round(data_under_50[data_under_50[\"sex\"]==\"m\"][\"age\"].mean(), 0))\n",
    "plt.figure()\n",
    "sns.boxplot(x=\"sex\", y=\"age\", data=data_under_50)\n",
    "plt.title(\"Men and Women Ages\")\n",
    "plt.savefig(\"Men and Women Ages.png\")\n"
   ]
  },
  {
   "cell_type": "markdown",
   "metadata": {},
   "source": [
    "### Job Types"
   ]
  },
  {
   "cell_type": "markdown",
   "metadata": {},
   "source": [
    "There are a lot of different job types =, but this graph gives us an idea of which jobs are the most prevalent"
   ]
  },
  {
   "cell_type": "code",
   "execution_count": 14,
   "metadata": {},
   "outputs": [
    {
     "data": {
      "image/png": "[encoded data removed]",
      "text/plain": [
       "<Figure size 640x480 with 1 Axes>"
      ]
     },
     "metadata": {},
     "output_type": "display_data"
    }
   ],
   "source": [
    "#bar chart of job types\n",
    "plt.figure()\n",
    "data.job.value_counts().plot(kind=\"bar\", title= \"Job Type Counts\")\n",
    "plt.savefig(\"Job Type Bar Chart.png\")\n"
   ]
  },
  {
   "cell_type": "markdown",
   "metadata": {},
   "source": [
    "### Heights"
   ]
  },
  {
   "cell_type": "markdown",
   "metadata": {},
   "source": [
    "​This histogram shows the distributions of heights for men and women on the app. As one would expect, the heights for women are shorter, but both have normal distributions. "
   ]
  },
  {
   "cell_type": "code",
   "execution_count": 15,
   "metadata": {},
   "outputs": [
    {
     "data": {
      "image/png": "[encoded data removed]",
      "text/plain": [
       "<Figure size 640x480 with 1 Axes>"
      ]
     },
     "metadata": {},
     "output_type": "display_data"
    }
   ],
   "source": [
    "#create overlapping histogram of mens and womens heights\n",
    "plt.figure()\n",
    "ax=plt.hist(data[data.sex=='m'].height, label = 'male height', alpha=.5, bins=30, density=True)\n",
    "ax=plt.hist(data[data.sex=='f'].height, label = 'female height', alpha = .5, bins=30, density=True)\n",
    "plt.xlim(xmin=50)\n",
    "plt.legend()\n",
    "plt.xlabel(\"Height in Inches\")\n",
    "plt.ylabel(\"Proportions\")\n",
    "plt.title(\"User Heights by Sex\")\n",
    "plt.savefig(\"User heights By Sex Histogram.png\")"
   ]
  },
  {
   "cell_type": "markdown",
   "metadata": {},
   "source": [
    "### Drug Use"
   ]
  },
  {
   "cell_type": "markdown",
   "metadata": {},
   "source": [
    "Here a pie chart is used to get an idea of the proportion of profiles that use drugs"
   ]
  },
  {
   "cell_type": "code",
   "execution_count": 16,
   "metadata": {},
   "outputs": [
    {
     "data": {
      "image/png": "[encoded data removed]",
      "text/plain": [
       "<Figure size 640x480 with 1 Axes>"
      ]
     },
     "metadata": {},
     "output_type": "display_data"
    }
   ],
   "source": [
    "plt.figure()\n",
    "data.drugs.value_counts().plot(kind = 'pie' )\n",
    "plt.title(\"User Drug Use\")\n",
    "plt.savefig(\"User Drug Use Pie.png\")"
   ]
  },
  {
   "cell_type": "markdown",
   "metadata": {},
   "source": [
    "### Sign"
   ]
  },
  {
   "cell_type": "markdown",
   "metadata": {},
   "source": [
    "The cleaned up sign data can be used to chart the signs of the different users. It is pretty evenly distributed across the 12 different signs, as we would expect for a random variable in a large sample size. "
   ]
  },
  {
   "cell_type": "code",
   "execution_count": 17,
   "metadata": {},
   "outputs": [
    {
     "data": {
      "text/plain": [
       "Text(0.5, 1.0, 'Star Signs')"
      ]
     },
     "execution_count": 17,
     "metadata": {},
     "output_type": "execute_result"
    },
    {
     "data": {
      "image/png": "[encoded data removed]",
      "text/plain": [
       "<Figure size 640x480 with 1 Axes>"
      ]
     },
     "metadata": {},
     "output_type": "display_data"
    }
   ],
   "source": [
    "sns.countplot(data=data, y='sign_cleaned')\n",
    "plt.title(\"Star Signs\")"
   ]
  },
  {
   "cell_type": "markdown",
   "metadata": {},
   "source": [
    "### Religion"
   ]
  },
  {
   "cell_type": "markdown",
   "metadata": {},
   "source": [
    "With the cleaned up religion field, the religions of users can be plotted."
   ]
  },
  {
   "cell_type": "code",
   "execution_count": 18,
   "metadata": {},
   "outputs": [
    {
     "data": {
      "text/plain": [
       "Text(0.5, 1.0, 'Religions')"
      ]
     },
     "execution_count": 18,
     "metadata": {},
     "output_type": "execute_result"
    },
    {
     "data": {
      "image/png": "[encoded data removed]",
      "text/plain": [
       "<Figure size 640x480 with 1 Axes>"
      ]
     },
     "metadata": {},
     "output_type": "display_data"
    }
   ],
   "source": [
    "sns.countplot(data=data, y='religion_cleaned')\n",
    "plt.title(\"Religions\")"
   ]
  },
  {
   "cell_type": "markdown",
   "metadata": {},
   "source": [
    "### Orientation"
   ]
  },
  {
   "cell_type": "markdown",
   "metadata": {},
   "source": [
    "This chart shows orientation of users, to get an idea of what the dating pool size is like for each orientation and gender."
   ]
  },
  {
   "cell_type": "code",
   "execution_count": 19,
   "metadata": {},
   "outputs": [
    {
     "data": {
      "text/plain": [
       "Text(0.5, 1.0, 'Sexual Orientations')"
      ]
     },
     "execution_count": 19,
     "metadata": {},
     "output_type": "execute_result"
    },
    {
     "data": {
      "image/png": "[encoded data removed]",
      "text/plain": [
       "<Figure size 640x480 with 1 Axes>"
      ]
     },
     "metadata": {},
     "output_type": "display_data"
    }
   ],
   "source": [
    "sns.countplot(data=data, y='orientation', hue='sex')\n",
    "plt.title(\"Sexual Orientations\")"
   ]
  },
  {
   "cell_type": "markdown",
   "metadata": {},
   "source": [
    "### Body Type"
   ]
  },
  {
   "cell_type": "markdown",
   "metadata": {},
   "source": [
    "This chart shows how the self-identified body types are distributed. The majority of people identify as just a few types: average, athletic and fit"
   ]
  },
  {
   "cell_type": "code",
   "execution_count": 20,
   "metadata": {},
   "outputs": [
    {
     "data": {
      "text/plain": [
       "Text(0.5, 1.0, 'Body Types')"
      ]
     },
     "execution_count": 20,
     "metadata": {},
     "output_type": "execute_result"
    },
    {
     "data": {
      "image/png": "[encoded data removed]",
      "text/plain": [
       "<Figure size 640x480 with 1 Axes>"
      ]
     },
     "metadata": {},
     "output_type": "display_data"
    }
   ],
   "source": [
    "sns.countplot(data=data, y='body_type')\n",
    "plt.title(\"Body Types\")"
   ]
  },
  {
   "cell_type": "markdown",
   "metadata": {},
   "source": [
    "### Smokes"
   ]
  },
  {
   "cell_type": "code",
   "execution_count": 21,
   "metadata": {},
   "outputs": [
    {
     "data": {
      "text/plain": [
       "Text(0.5, 1.0, 'Smoker')"
      ]
     },
     "execution_count": 21,
     "metadata": {},
     "output_type": "execute_result"
    },
    {
     "data": {
      "image/png": "[encoded data removed]",
      "text/plain": [
       "<Figure size 640x480 with 1 Axes>"
      ]
     },
     "metadata": {},
     "output_type": "display_data"
    }
   ],
   "source": [
    "sns.countplot(data=data, y='smokes')\n",
    "plt.title(\"Smoker\")"
   ]
  },
  {
   "cell_type": "markdown",
   "metadata": {},
   "source": [
    "### Pet status"
   ]
  },
  {
   "cell_type": "code",
   "execution_count": 22,
   "metadata": {},
   "outputs": [
    {
     "data": {
      "text/plain": [
       "Text(0.5, 1.0, 'Pet Status')"
      ]
     },
     "execution_count": 22,
     "metadata": {},
     "output_type": "execute_result"
    },
    {
     "data": {
      "image/png": "[encoded data removed]",
      "text/plain": [
       "<Figure size 640x480 with 1 Axes>"
      ]
     },
     "metadata": {},
     "output_type": "display_data"
    }
   ],
   "source": [
    "sns.countplot(data=data, y=\"pets\")\n",
    "plt.title(\"Pet Status\")"
   ]
  },
  {
   "cell_type": "markdown",
   "metadata": {},
   "source": [
    "## Preparing Data"
   ]
  },
  {
   "cell_type": "markdown",
   "metadata": {},
   "source": [
    "​Now, the data will need to be prepared before it can be used for our machine learning classification model. It will need to be evaluated to see how much information is missing. When choosing data for our prediction model, it will be best to use fields with a minimal number of null entries. Below are the counts of null entries for each variable. \n",
    "\n",
    "We will ignore the essay questions, and focus on the categorical and numerical variables. \n",
    "\n",
    "Income, last_online, location, orientation, sex, and status have no null values. \n",
    "\n",
    "body_type, drinks, education, ethnicity, height, smokes, and speaks have few null values compared to the rest of the variables. \n",
    "​"
   ]
  },
  {
   "cell_type": "code",
   "execution_count": 23,
   "metadata": {},
   "outputs": [
    {
     "data": {
      "text/plain": [
       "age                     0\n",
       "body_type            5296\n",
       "diet                24395\n",
       "drinks               2985\n",
       "drugs               14080\n",
       "education            6628\n",
       "essay0               5488\n",
       "essay1               7572\n",
       "essay2               9638\n",
       "essay3              11476\n",
       "essay4              10537\n",
       "essay5              10850\n",
       "essay6              13771\n",
       "essay7              12451\n",
       "essay8              19225\n",
       "essay9              12603\n",
       "ethnicity            5680\n",
       "height                  3\n",
       "income                  0\n",
       "job                  8198\n",
       "last_online             0\n",
       "location                0\n",
       "offspring           35561\n",
       "orientation             0\n",
       "pets                19921\n",
       "religion            20226\n",
       "sex                     0\n",
       "sign                11056\n",
       "smokes               5512\n",
       "speaks                 50\n",
       "status                  0\n",
       "sign_cleaned        11056\n",
       "religion_cleaned    20226\n",
       "dtype: int64"
      ]
     },
     "execution_count": 23,
     "metadata": {},
     "output_type": "execute_result"
    }
   ],
   "source": [
    "#print the total number of nan values in each column\n",
    "data.isnull().sum()"
   ]
  },
  {
   "cell_type": "markdown",
   "metadata": {},
   "source": [
    "### Chosing a subset: \n",
    "​In this project, body type will be the variable we are trying to predict. To predict this variable, heights, sex, drinking and drug status, education, ethnicity, and sign may be good predictors. Height, sex, drinks, have very few null values, while education, and ethnicity have relatively low amounts of null values compared to other fields.  \n",
    "Before creating the subset, height, the one numerical variable we are choosing, should be normalized so that it does not have a disproportionate weight in the classification algorithm we will use. Then the subset can be created with the columns we want to use. Once the subset is created, NA values should also be dropped so that we have a complete dataset.  Below is a preview of the first five rows of our subset. "
   ]
  },
  {
   "cell_type": "code",
   "execution_count": 24,
   "metadata": {},
   "outputs": [],
   "source": [
    "#normalizing height values\n",
    "min_height=data.height.min()\n",
    "max_height=data.height.max()\n",
    "data['height_normed']=data['height'].apply(lambda x: (x-min_height)/(max_height-min_height))"
   ]
  },
  {
   "cell_type": "code",
   "execution_count": 25,
   "metadata": {},
   "outputs": [
    {
     "data": {
      "text/html": [
       "<div>\n",
       "<style scoped>\n",
       "    .dataframe tbody tr th:only-of-type {\n",
       "        vertical-align: middle;\n",
       "    }\n",
       "\n",
       "    .dataframe tbody tr th {\n",
       "        vertical-align: top;\n",
       "    }\n",
       "\n",
       "    .dataframe thead th {\n",
       "        text-align: right;\n",
       "    }\n",
       "</style>\n",
       "<table border=\"1\" class=\"dataframe\">\n",
       "  <thead>\n",
       "    <tr style=\"text-align: right;\">\n",
       "      <th></th>\n",
       "      <th>index</th>\n",
       "      <th>height_normed</th>\n",
       "      <th>sex</th>\n",
       "      <th>drinks</th>\n",
       "      <th>drugs</th>\n",
       "      <th>education</th>\n",
       "      <th>ethnicity</th>\n",
       "      <th>sign_cleaned</th>\n",
       "      <th>body_type</th>\n",
       "    </tr>\n",
       "  </thead>\n",
       "  <tbody>\n",
       "    <tr>\n",
       "      <th>0</th>\n",
       "      <td>0</td>\n",
       "      <td>0.787234</td>\n",
       "      <td>m</td>\n",
       "      <td>socially</td>\n",
       "      <td>never</td>\n",
       "      <td>working on college/university</td>\n",
       "      <td>asian, white</td>\n",
       "      <td>gemini</td>\n",
       "      <td>a little extra</td>\n",
       "    </tr>\n",
       "    <tr>\n",
       "      <th>1</th>\n",
       "      <td>1</td>\n",
       "      <td>0.734043</td>\n",
       "      <td>m</td>\n",
       "      <td>often</td>\n",
       "      <td>sometimes</td>\n",
       "      <td>working on space camp</td>\n",
       "      <td>white</td>\n",
       "      <td>cancer</td>\n",
       "      <td>average</td>\n",
       "    </tr>\n",
       "    <tr>\n",
       "      <th>2</th>\n",
       "      <td>4</td>\n",
       "      <td>0.691489</td>\n",
       "      <td>m</td>\n",
       "      <td>socially</td>\n",
       "      <td>never</td>\n",
       "      <td>graduated from college/university</td>\n",
       "      <td>asian, black, other</td>\n",
       "      <td>aquarius</td>\n",
       "      <td>athletic</td>\n",
       "    </tr>\n",
       "    <tr>\n",
       "      <th>3</th>\n",
       "      <td>6</td>\n",
       "      <td>0.680851</td>\n",
       "      <td>f</td>\n",
       "      <td>socially</td>\n",
       "      <td>never</td>\n",
       "      <td>graduated from college/university</td>\n",
       "      <td>white, other</td>\n",
       "      <td>virgo</td>\n",
       "      <td>fit</td>\n",
       "    </tr>\n",
       "    <tr>\n",
       "      <th>4</th>\n",
       "      <td>7</td>\n",
       "      <td>0.680851</td>\n",
       "      <td>f</td>\n",
       "      <td>socially</td>\n",
       "      <td>never</td>\n",
       "      <td>graduated from college/university</td>\n",
       "      <td>white</td>\n",
       "      <td>sagittarius</td>\n",
       "      <td>average</td>\n",
       "    </tr>\n",
       "  </tbody>\n",
       "</table>\n",
       "</div>"
      ],
      "text/plain": [
       "   index  height_normed sex    drinks      drugs  \\\n",
       "0      0       0.787234   m  socially      never   \n",
       "1      1       0.734043   m     often  sometimes   \n",
       "2      4       0.691489   m  socially      never   \n",
       "3      6       0.680851   f  socially      never   \n",
       "4      7       0.680851   f  socially      never   \n",
       "\n",
       "                           education            ethnicity sign_cleaned  \\\n",
       "0      working on college/university         asian, white       gemini   \n",
       "1              working on space camp                white       cancer   \n",
       "2  graduated from college/university  asian, black, other     aquarius   \n",
       "3  graduated from college/university         white, other        virgo   \n",
       "4  graduated from college/university                white  sagittarius   \n",
       "\n",
       "        body_type  \n",
       "0  a little extra  \n",
       "1         average  \n",
       "2        athletic  \n",
       "3             fit  \n",
       "4         average  "
      ]
     },
     "execution_count": 25,
     "metadata": {},
     "output_type": "execute_result"
    }
   ],
   "source": [
    "#creating our subset and removing na values\n",
    "cols=[\"height_normed\", 'sex', 'drinks', 'drugs', 'education', 'ethnicity', 'sign_cleaned', 'body_type']\n",
    "df=data[cols].dropna()\n",
    "df=df.reset_index()\n",
    "df.shape\n",
    "df.head()"
   ]
  },
  {
   "cell_type": "markdown",
   "metadata": {},
   "source": [
    "### Encoding Categorical Variables"
   ]
  },
  {
   "cell_type": "markdown",
   "metadata": {},
   "source": [
    "Besides height, all the other variables are categorical. The predictor variables should be encoded so that they can be interpreted by the machine learning model. Below is a preview of what the dataset looks like after encoding"
   ]
  },
  {
   "cell_type": "code",
   "execution_count": 26,
   "metadata": {},
   "outputs": [
    {
     "data": {
      "text/html": [
       "<div>\n",
       "<style scoped>\n",
       "    .dataframe tbody tr th:only-of-type {\n",
       "        vertical-align: middle;\n",
       "    }\n",
       "\n",
       "    .dataframe tbody tr th {\n",
       "        vertical-align: top;\n",
       "    }\n",
       "\n",
       "    .dataframe thead th {\n",
       "        text-align: right;\n",
       "    }\n",
       "</style>\n",
       "<table border=\"1\" class=\"dataframe\">\n",
       "  <thead>\n",
       "    <tr style=\"text-align: right;\">\n",
       "      <th></th>\n",
       "      <th>index</th>\n",
       "      <th>height_normed</th>\n",
       "      <th>body_type</th>\n",
       "      <th>sex_f</th>\n",
       "      <th>sex_m</th>\n",
       "      <th>drinks_desperately</th>\n",
       "      <th>drinks_not at all</th>\n",
       "      <th>drinks_often</th>\n",
       "      <th>drinks_rarely</th>\n",
       "      <th>drinks_socially</th>\n",
       "      <th>...</th>\n",
       "      <th>sign_cleaned_cancer</th>\n",
       "      <th>sign_cleaned_capricorn</th>\n",
       "      <th>sign_cleaned_gemini</th>\n",
       "      <th>sign_cleaned_leo</th>\n",
       "      <th>sign_cleaned_libra</th>\n",
       "      <th>sign_cleaned_pisces</th>\n",
       "      <th>sign_cleaned_sagittarius</th>\n",
       "      <th>sign_cleaned_scorpio</th>\n",
       "      <th>sign_cleaned_taurus</th>\n",
       "      <th>sign_cleaned_virgo</th>\n",
       "    </tr>\n",
       "  </thead>\n",
       "  <tbody>\n",
       "    <tr>\n",
       "      <th>0</th>\n",
       "      <td>0</td>\n",
       "      <td>0.787234</td>\n",
       "      <td>a little extra</td>\n",
       "      <td>0</td>\n",
       "      <td>1</td>\n",
       "      <td>0</td>\n",
       "      <td>0</td>\n",
       "      <td>0</td>\n",
       "      <td>0</td>\n",
       "      <td>1</td>\n",
       "      <td>...</td>\n",
       "      <td>0</td>\n",
       "      <td>0</td>\n",
       "      <td>1</td>\n",
       "      <td>0</td>\n",
       "      <td>0</td>\n",
       "      <td>0</td>\n",
       "      <td>0</td>\n",
       "      <td>0</td>\n",
       "      <td>0</td>\n",
       "      <td>0</td>\n",
       "    </tr>\n",
       "    <tr>\n",
       "      <th>1</th>\n",
       "      <td>1</td>\n",
       "      <td>0.734043</td>\n",
       "      <td>average</td>\n",
       "      <td>0</td>\n",
       "      <td>1</td>\n",
       "      <td>0</td>\n",
       "      <td>0</td>\n",
       "      <td>1</td>\n",
       "      <td>0</td>\n",
       "      <td>0</td>\n",
       "      <td>...</td>\n",
       "      <td>1</td>\n",
       "      <td>0</td>\n",
       "      <td>0</td>\n",
       "      <td>0</td>\n",
       "      <td>0</td>\n",
       "      <td>0</td>\n",
       "      <td>0</td>\n",
       "      <td>0</td>\n",
       "      <td>0</td>\n",
       "      <td>0</td>\n",
       "    </tr>\n",
       "    <tr>\n",
       "      <th>2</th>\n",
       "      <td>4</td>\n",
       "      <td>0.691489</td>\n",
       "      <td>athletic</td>\n",
       "      <td>0</td>\n",
       "      <td>1</td>\n",
       "      <td>0</td>\n",
       "      <td>0</td>\n",
       "      <td>0</td>\n",
       "      <td>0</td>\n",
       "      <td>1</td>\n",
       "      <td>...</td>\n",
       "      <td>0</td>\n",
       "      <td>0</td>\n",
       "      <td>0</td>\n",
       "      <td>0</td>\n",
       "      <td>0</td>\n",
       "      <td>0</td>\n",
       "      <td>0</td>\n",
       "      <td>0</td>\n",
       "      <td>0</td>\n",
       "      <td>0</td>\n",
       "    </tr>\n",
       "    <tr>\n",
       "      <th>3</th>\n",
       "      <td>6</td>\n",
       "      <td>0.680851</td>\n",
       "      <td>fit</td>\n",
       "      <td>1</td>\n",
       "      <td>0</td>\n",
       "      <td>0</td>\n",
       "      <td>0</td>\n",
       "      <td>0</td>\n",
       "      <td>0</td>\n",
       "      <td>1</td>\n",
       "      <td>...</td>\n",
       "      <td>0</td>\n",
       "      <td>0</td>\n",
       "      <td>0</td>\n",
       "      <td>0</td>\n",
       "      <td>0</td>\n",
       "      <td>0</td>\n",
       "      <td>0</td>\n",
       "      <td>0</td>\n",
       "      <td>0</td>\n",
       "      <td>1</td>\n",
       "    </tr>\n",
       "    <tr>\n",
       "      <th>4</th>\n",
       "      <td>7</td>\n",
       "      <td>0.680851</td>\n",
       "      <td>average</td>\n",
       "      <td>1</td>\n",
       "      <td>0</td>\n",
       "      <td>0</td>\n",
       "      <td>0</td>\n",
       "      <td>0</td>\n",
       "      <td>0</td>\n",
       "      <td>1</td>\n",
       "      <td>...</td>\n",
       "      <td>0</td>\n",
       "      <td>0</td>\n",
       "      <td>0</td>\n",
       "      <td>0</td>\n",
       "      <td>0</td>\n",
       "      <td>0</td>\n",
       "      <td>1</td>\n",
       "      <td>0</td>\n",
       "      <td>0</td>\n",
       "      <td>0</td>\n",
       "    </tr>\n",
       "  </tbody>\n",
       "</table>\n",
       "<p>5 rows × 245 columns</p>\n",
       "</div>"
      ],
      "text/plain": [
       "   index  height_normed       body_type  sex_f  sex_m  drinks_desperately  \\\n",
       "0      0       0.787234  a little extra      0      1                   0   \n",
       "1      1       0.734043         average      0      1                   0   \n",
       "2      4       0.691489        athletic      0      1                   0   \n",
       "3      6       0.680851             fit      1      0                   0   \n",
       "4      7       0.680851         average      1      0                   0   \n",
       "\n",
       "   drinks_not at all  drinks_often  drinks_rarely  drinks_socially  ...  \\\n",
       "0                  0             0              0                1  ...   \n",
       "1                  0             1              0                0  ...   \n",
       "2                  0             0              0                1  ...   \n",
       "3                  0             0              0                1  ...   \n",
       "4                  0             0              0                1  ...   \n",
       "\n",
       "   sign_cleaned_cancer  sign_cleaned_capricorn  sign_cleaned_gemini  \\\n",
       "0                    0                       0                    1   \n",
       "1                    1                       0                    0   \n",
       "2                    0                       0                    0   \n",
       "3                    0                       0                    0   \n",
       "4                    0                       0                    0   \n",
       "\n",
       "   sign_cleaned_leo  sign_cleaned_libra  sign_cleaned_pisces  \\\n",
       "0                 0                   0                    0   \n",
       "1                 0                   0                    0   \n",
       "2                 0                   0                    0   \n",
       "3                 0                   0                    0   \n",
       "4                 0                   0                    0   \n",
       "\n",
       "   sign_cleaned_sagittarius  sign_cleaned_scorpio  sign_cleaned_taurus  \\\n",
       "0                         0                     0                    0   \n",
       "1                         0                     0                    0   \n",
       "2                         0                     0                    0   \n",
       "3                         0                     0                    0   \n",
       "4                         1                     0                    0   \n",
       "\n",
       "   sign_cleaned_virgo  \n",
       "0                   0  \n",
       "1                   0  \n",
       "2                   0  \n",
       "3                   1  \n",
       "4                   0  \n",
       "\n",
       "[5 rows x 245 columns]"
      ]
     },
     "execution_count": 26,
     "metadata": {},
     "output_type": "execute_result"
    }
   ],
   "source": [
    "#encoding categorical variables\n",
    "df=pd.get_dummies(df, columns=['sex', 'drinks', 'drugs', 'education', 'ethnicity', 'sign_cleaned'] )\n",
    "df.head()"
   ]
  },
  {
   "cell_type": "markdown",
   "metadata": {},
   "source": [
    "## Implementing A Classifier"
   ]
  },
  {
   "cell_type": "markdown",
   "metadata": {},
   "source": [
    "Using our subset dataframe, lets see if we can implement a KNN Classifier to predict Body Type"
   ]
  },
  {
   "cell_type": "markdown",
   "metadata": {},
   "source": [
    "### Split Dataframe into features and outcome "
   ]
  },
  {
   "cell_type": "markdown",
   "metadata": {},
   "source": [
    "Now that we know what variables we want to use as our predictors and the variable we want to predict, lets split them up so that we can better process the data"
   ]
  },
  {
   "cell_type": "code",
   "execution_count": 27,
   "metadata": {},
   "outputs": [
    {
     "data": {
      "text/html": [
       "<div>\n",
       "<style scoped>\n",
       "    .dataframe tbody tr th:only-of-type {\n",
       "        vertical-align: middle;\n",
       "    }\n",
       "\n",
       "    .dataframe tbody tr th {\n",
       "        vertical-align: top;\n",
       "    }\n",
       "\n",
       "    .dataframe thead th {\n",
       "        text-align: right;\n",
       "    }\n",
       "</style>\n",
       "<table border=\"1\" class=\"dataframe\">\n",
       "  <thead>\n",
       "    <tr style=\"text-align: right;\">\n",
       "      <th></th>\n",
       "      <th>index</th>\n",
       "      <th>height_normed</th>\n",
       "      <th>sex_f</th>\n",
       "      <th>sex_m</th>\n",
       "      <th>drinks_desperately</th>\n",
       "      <th>drinks_not at all</th>\n",
       "      <th>drinks_often</th>\n",
       "      <th>drinks_rarely</th>\n",
       "      <th>drinks_socially</th>\n",
       "      <th>drinks_very often</th>\n",
       "      <th>...</th>\n",
       "      <th>sign_cleaned_cancer</th>\n",
       "      <th>sign_cleaned_capricorn</th>\n",
       "      <th>sign_cleaned_gemini</th>\n",
       "      <th>sign_cleaned_leo</th>\n",
       "      <th>sign_cleaned_libra</th>\n",
       "      <th>sign_cleaned_pisces</th>\n",
       "      <th>sign_cleaned_sagittarius</th>\n",
       "      <th>sign_cleaned_scorpio</th>\n",
       "      <th>sign_cleaned_taurus</th>\n",
       "      <th>sign_cleaned_virgo</th>\n",
       "    </tr>\n",
       "  </thead>\n",
       "  <tbody>\n",
       "    <tr>\n",
       "      <th>0</th>\n",
       "      <td>0</td>\n",
       "      <td>0.787234</td>\n",
       "      <td>0</td>\n",
       "      <td>1</td>\n",
       "      <td>0</td>\n",
       "      <td>0</td>\n",
       "      <td>0</td>\n",
       "      <td>0</td>\n",
       "      <td>1</td>\n",
       "      <td>0</td>\n",
       "      <td>...</td>\n",
       "      <td>0</td>\n",
       "      <td>0</td>\n",
       "      <td>1</td>\n",
       "      <td>0</td>\n",
       "      <td>0</td>\n",
       "      <td>0</td>\n",
       "      <td>0</td>\n",
       "      <td>0</td>\n",
       "      <td>0</td>\n",
       "      <td>0</td>\n",
       "    </tr>\n",
       "    <tr>\n",
       "      <th>1</th>\n",
       "      <td>1</td>\n",
       "      <td>0.734043</td>\n",
       "      <td>0</td>\n",
       "      <td>1</td>\n",
       "      <td>0</td>\n",
       "      <td>0</td>\n",
       "      <td>1</td>\n",
       "      <td>0</td>\n",
       "      <td>0</td>\n",
       "      <td>0</td>\n",
       "      <td>...</td>\n",
       "      <td>1</td>\n",
       "      <td>0</td>\n",
       "      <td>0</td>\n",
       "      <td>0</td>\n",
       "      <td>0</td>\n",
       "      <td>0</td>\n",
       "      <td>0</td>\n",
       "      <td>0</td>\n",
       "      <td>0</td>\n",
       "      <td>0</td>\n",
       "    </tr>\n",
       "    <tr>\n",
       "      <th>2</th>\n",
       "      <td>4</td>\n",
       "      <td>0.691489</td>\n",
       "      <td>0</td>\n",
       "      <td>1</td>\n",
       "      <td>0</td>\n",
       "      <td>0</td>\n",
       "      <td>0</td>\n",
       "      <td>0</td>\n",
       "      <td>1</td>\n",
       "      <td>0</td>\n",
       "      <td>...</td>\n",
       "      <td>0</td>\n",
       "      <td>0</td>\n",
       "      <td>0</td>\n",
       "      <td>0</td>\n",
       "      <td>0</td>\n",
       "      <td>0</td>\n",
       "      <td>0</td>\n",
       "      <td>0</td>\n",
       "      <td>0</td>\n",
       "      <td>0</td>\n",
       "    </tr>\n",
       "    <tr>\n",
       "      <th>3</th>\n",
       "      <td>6</td>\n",
       "      <td>0.680851</td>\n",
       "      <td>1</td>\n",
       "      <td>0</td>\n",
       "      <td>0</td>\n",
       "      <td>0</td>\n",
       "      <td>0</td>\n",
       "      <td>0</td>\n",
       "      <td>1</td>\n",
       "      <td>0</td>\n",
       "      <td>...</td>\n",
       "      <td>0</td>\n",
       "      <td>0</td>\n",
       "      <td>0</td>\n",
       "      <td>0</td>\n",
       "      <td>0</td>\n",
       "      <td>0</td>\n",
       "      <td>0</td>\n",
       "      <td>0</td>\n",
       "      <td>0</td>\n",
       "      <td>1</td>\n",
       "    </tr>\n",
       "    <tr>\n",
       "      <th>4</th>\n",
       "      <td>7</td>\n",
       "      <td>0.680851</td>\n",
       "      <td>1</td>\n",
       "      <td>0</td>\n",
       "      <td>0</td>\n",
       "      <td>0</td>\n",
       "      <td>0</td>\n",
       "      <td>0</td>\n",
       "      <td>1</td>\n",
       "      <td>0</td>\n",
       "      <td>...</td>\n",
       "      <td>0</td>\n",
       "      <td>0</td>\n",
       "      <td>0</td>\n",
       "      <td>0</td>\n",
       "      <td>0</td>\n",
       "      <td>0</td>\n",
       "      <td>1</td>\n",
       "      <td>0</td>\n",
       "      <td>0</td>\n",
       "      <td>0</td>\n",
       "    </tr>\n",
       "  </tbody>\n",
       "</table>\n",
       "<p>5 rows × 244 columns</p>\n",
       "</div>"
      ],
      "text/plain": [
       "   index  height_normed  sex_f  sex_m  drinks_desperately  drinks_not at all  \\\n",
       "0      0       0.787234      0      1                   0                  0   \n",
       "1      1       0.734043      0      1                   0                  0   \n",
       "2      4       0.691489      0      1                   0                  0   \n",
       "3      6       0.680851      1      0                   0                  0   \n",
       "4      7       0.680851      1      0                   0                  0   \n",
       "\n",
       "   drinks_often  drinks_rarely  drinks_socially  drinks_very often  ...  \\\n",
       "0             0              0                1                  0  ...   \n",
       "1             1              0                0                  0  ...   \n",
       "2             0              0                1                  0  ...   \n",
       "3             0              0                1                  0  ...   \n",
       "4             0              0                1                  0  ...   \n",
       "\n",
       "   sign_cleaned_cancer  sign_cleaned_capricorn  sign_cleaned_gemini  \\\n",
       "0                    0                       0                    1   \n",
       "1                    1                       0                    0   \n",
       "2                    0                       0                    0   \n",
       "3                    0                       0                    0   \n",
       "4                    0                       0                    0   \n",
       "\n",
       "   sign_cleaned_leo  sign_cleaned_libra  sign_cleaned_pisces  \\\n",
       "0                 0                   0                    0   \n",
       "1                 0                   0                    0   \n",
       "2                 0                   0                    0   \n",
       "3                 0                   0                    0   \n",
       "4                 0                   0                    0   \n",
       "\n",
       "   sign_cleaned_sagittarius  sign_cleaned_scorpio  sign_cleaned_taurus  \\\n",
       "0                         0                     0                    0   \n",
       "1                         0                     0                    0   \n",
       "2                         0                     0                    0   \n",
       "3                         0                     0                    0   \n",
       "4                         1                     0                    0   \n",
       "\n",
       "   sign_cleaned_virgo  \n",
       "0                   0  \n",
       "1                   0  \n",
       "2                   0  \n",
       "3                   1  \n",
       "4                   0  \n",
       "\n",
       "[5 rows x 244 columns]"
      ]
     },
     "execution_count": 27,
     "metadata": {},
     "output_type": "execute_result"
    }
   ],
   "source": [
    "df_features=df.drop('body_type', axis=1)\n",
    "df_features.head()"
   ]
  },
  {
   "cell_type": "code",
   "execution_count": null,
   "metadata": {},
   "outputs": [],
   "source": []
  },
  {
   "cell_type": "code",
   "execution_count": 28,
   "metadata": {},
   "outputs": [
    {
     "data": {
      "text/plain": [
       "0    a little extra\n",
       "1           average\n",
       "2          athletic\n",
       "3               fit\n",
       "4           average\n",
       "Name: body_type, dtype: object"
      ]
     },
     "execution_count": 28,
     "metadata": {},
     "output_type": "execute_result"
    }
   ],
   "source": [
    "df_outcome=df['body_type']\n",
    "df_outcome.head()"
   ]
  },
  {
   "cell_type": "markdown",
   "metadata": {},
   "source": [
    "### Implementing a KNN Classifier"
   ]
  },
  {
   "cell_type": "markdown",
   "metadata": {},
   "source": [
    "First, the data is split into a training set and a test set. Then different values of K are looped through to see which produces the best model based on its accuracy score. I looped through K values between 2 and 15, which gave a good range of values to test without taking such a long time to run. The results can be seen on the right: the KNN classifier with the best score had a K of 13 and an accuracy score of around 25%. "
   ]
  },
  {
   "cell_type": "code",
   "execution_count": 29,
   "metadata": {},
   "outputs": [],
   "source": [
    "#import necessary libraries for KNN Classifier\n",
    "from sklearn.neighbors import KNeighborsClassifier\n",
    "from sklearn.model_selection import train_test_split\n",
    "from sklearn.metrics import accuracy_score, confusion_matrix\n"
   ]
  },
  {
   "cell_type": "code",
   "execution_count": 30,
   "metadata": {},
   "outputs": [],
   "source": [
    "#split into test and training data\n",
    "x_train, x_test, y_train, y_test = train_test_split(df_features, df_outcome, test_size=.2, random_state=42)\n"
   ]
  },
  {
   "cell_type": "markdown",
   "metadata": {},
   "source": [
    "#### Finding the best K"
   ]
  },
  {
   "cell_type": "code",
   "execution_count": null,
   "metadata": {},
   "outputs": [],
   "source": []
  },
  {
   "cell_type": "code",
   "execution_count": 31,
   "metadata": {},
   "outputs": [],
   "source": [
    "#create list of k values to try\n",
    "k_list=list(range(2, 16))\n",
    "scores=[]\n",
    "\n",
    "#try each k value and store the accuracy score it produces)\n",
    "for k in k_list: \n",
    "    knn=KNeighborsClassifier(n_neighbors = k)\n",
    "    knn.fit(x_train, y_train)\n",
    "    y_pred=knn.predict(x_test)\n",
    "    accuracy=accuracy_score(y_test, y_pred)\n",
    "    #knn_score=knn.score(x_test, y_test)\n",
    "    scores.append(accuracy)\n",
    "\n"
   ]
  },
  {
   "cell_type": "code",
   "execution_count": 32,
   "metadata": {},
   "outputs": [
    {
     "name": "stdout",
     "output_type": "stream",
     "text": [
      "Best Score:  0.24957954927682477\n",
      "Best K:  13\n"
     ]
    }
   ],
   "source": [
    "#find best score and the k it corresponds with\n",
    "best_score_loc=scores.index(max(scores))\n",
    "best_score=max(scores)\n",
    "best_k=k_list[best_score_loc]\n",
    "print(\"Best Score: \" , best_score)\n",
    "print(\"Best K: \", best_k)"
   ]
  },
  {
   "cell_type": "markdown",
   "metadata": {},
   "source": [
    "Even going through a number of K's, the score is not very high. Perhaps if a few predictor variables are dropped, a higher score can be achieved. A slightly tweaked data set with Ethnicity and Sign removed can be run through the same process. "
   ]
  },
  {
   "cell_type": "markdown",
   "metadata": {},
   "source": [
    "#### Adjusting Features"
   ]
  },
  {
   "cell_type": "markdown",
   "metadata": {},
   "source": [
    "Even going through a number of Ks, our best score is not very high. Lets try taking out a few predictor variables to see if we can get a higher score"
   ]
  },
  {
   "cell_type": "markdown",
   "metadata": {},
   "source": [
    "Removing Ethnicity and Signs\n"
   ]
  },
  {
   "cell_type": "code",
   "execution_count": 33,
   "metadata": {},
   "outputs": [
    {
     "data": {
      "text/html": [
       "<div>\n",
       "<style scoped>\n",
       "    .dataframe tbody tr th:only-of-type {\n",
       "        vertical-align: middle;\n",
       "    }\n",
       "\n",
       "    .dataframe tbody tr th {\n",
       "        vertical-align: top;\n",
       "    }\n",
       "\n",
       "    .dataframe thead th {\n",
       "        text-align: right;\n",
       "    }\n",
       "</style>\n",
       "<table border=\"1\" class=\"dataframe\">\n",
       "  <thead>\n",
       "    <tr style=\"text-align: right;\">\n",
       "      <th></th>\n",
       "      <th>index</th>\n",
       "      <th>height_normed</th>\n",
       "      <th>body_type</th>\n",
       "      <th>sex_f</th>\n",
       "      <th>sex_m</th>\n",
       "      <th>drinks_desperately</th>\n",
       "      <th>drinks_not at all</th>\n",
       "      <th>drinks_often</th>\n",
       "      <th>drinks_rarely</th>\n",
       "      <th>drinks_socially</th>\n",
       "      <th>...</th>\n",
       "      <th>education_space camp</th>\n",
       "      <th>education_two-year college</th>\n",
       "      <th>education_working on college/university</th>\n",
       "      <th>education_working on high school</th>\n",
       "      <th>education_working on law school</th>\n",
       "      <th>education_working on masters program</th>\n",
       "      <th>education_working on med school</th>\n",
       "      <th>education_working on ph.d program</th>\n",
       "      <th>education_working on space camp</th>\n",
       "      <th>education_working on two-year college</th>\n",
       "    </tr>\n",
       "  </thead>\n",
       "  <tbody>\n",
       "    <tr>\n",
       "      <th>0</th>\n",
       "      <td>0</td>\n",
       "      <td>0.787234</td>\n",
       "      <td>a little extra</td>\n",
       "      <td>0</td>\n",
       "      <td>1</td>\n",
       "      <td>0</td>\n",
       "      <td>0</td>\n",
       "      <td>0</td>\n",
       "      <td>0</td>\n",
       "      <td>1</td>\n",
       "      <td>...</td>\n",
       "      <td>0</td>\n",
       "      <td>0</td>\n",
       "      <td>1</td>\n",
       "      <td>0</td>\n",
       "      <td>0</td>\n",
       "      <td>0</td>\n",
       "      <td>0</td>\n",
       "      <td>0</td>\n",
       "      <td>0</td>\n",
       "      <td>0</td>\n",
       "    </tr>\n",
       "    <tr>\n",
       "      <th>1</th>\n",
       "      <td>1</td>\n",
       "      <td>0.734043</td>\n",
       "      <td>average</td>\n",
       "      <td>0</td>\n",
       "      <td>1</td>\n",
       "      <td>0</td>\n",
       "      <td>0</td>\n",
       "      <td>1</td>\n",
       "      <td>0</td>\n",
       "      <td>0</td>\n",
       "      <td>...</td>\n",
       "      <td>0</td>\n",
       "      <td>0</td>\n",
       "      <td>0</td>\n",
       "      <td>0</td>\n",
       "      <td>0</td>\n",
       "      <td>0</td>\n",
       "      <td>0</td>\n",
       "      <td>0</td>\n",
       "      <td>1</td>\n",
       "      <td>0</td>\n",
       "    </tr>\n",
       "    <tr>\n",
       "      <th>2</th>\n",
       "      <td>4</td>\n",
       "      <td>0.691489</td>\n",
       "      <td>athletic</td>\n",
       "      <td>0</td>\n",
       "      <td>1</td>\n",
       "      <td>0</td>\n",
       "      <td>0</td>\n",
       "      <td>0</td>\n",
       "      <td>0</td>\n",
       "      <td>1</td>\n",
       "      <td>...</td>\n",
       "      <td>0</td>\n",
       "      <td>0</td>\n",
       "      <td>0</td>\n",
       "      <td>0</td>\n",
       "      <td>0</td>\n",
       "      <td>0</td>\n",
       "      <td>0</td>\n",
       "      <td>0</td>\n",
       "      <td>0</td>\n",
       "      <td>0</td>\n",
       "    </tr>\n",
       "    <tr>\n",
       "      <th>3</th>\n",
       "      <td>6</td>\n",
       "      <td>0.680851</td>\n",
       "      <td>fit</td>\n",
       "      <td>1</td>\n",
       "      <td>0</td>\n",
       "      <td>0</td>\n",
       "      <td>0</td>\n",
       "      <td>0</td>\n",
       "      <td>0</td>\n",
       "      <td>1</td>\n",
       "      <td>...</td>\n",
       "      <td>0</td>\n",
       "      <td>0</td>\n",
       "      <td>0</td>\n",
       "      <td>0</td>\n",
       "      <td>0</td>\n",
       "      <td>0</td>\n",
       "      <td>0</td>\n",
       "      <td>0</td>\n",
       "      <td>0</td>\n",
       "      <td>0</td>\n",
       "    </tr>\n",
       "    <tr>\n",
       "      <th>4</th>\n",
       "      <td>7</td>\n",
       "      <td>0.680851</td>\n",
       "      <td>average</td>\n",
       "      <td>1</td>\n",
       "      <td>0</td>\n",
       "      <td>0</td>\n",
       "      <td>0</td>\n",
       "      <td>0</td>\n",
       "      <td>0</td>\n",
       "      <td>1</td>\n",
       "      <td>...</td>\n",
       "      <td>0</td>\n",
       "      <td>0</td>\n",
       "      <td>0</td>\n",
       "      <td>0</td>\n",
       "      <td>0</td>\n",
       "      <td>0</td>\n",
       "      <td>0</td>\n",
       "      <td>0</td>\n",
       "      <td>0</td>\n",
       "      <td>0</td>\n",
       "    </tr>\n",
       "  </tbody>\n",
       "</table>\n",
       "<p>5 rows × 46 columns</p>\n",
       "</div>"
      ],
      "text/plain": [
       "   index  height_normed       body_type  sex_f  sex_m  drinks_desperately  \\\n",
       "0      0       0.787234  a little extra      0      1                   0   \n",
       "1      1       0.734043         average      0      1                   0   \n",
       "2      4       0.691489        athletic      0      1                   0   \n",
       "3      6       0.680851             fit      1      0                   0   \n",
       "4      7       0.680851         average      1      0                   0   \n",
       "\n",
       "   drinks_not at all  drinks_often  drinks_rarely  drinks_socially  ...  \\\n",
       "0                  0             0              0                1  ...   \n",
       "1                  0             1              0                0  ...   \n",
       "2                  0             0              0                1  ...   \n",
       "3                  0             0              0                1  ...   \n",
       "4                  0             0              0                1  ...   \n",
       "\n",
       "   education_space camp  education_two-year college  \\\n",
       "0                     0                           0   \n",
       "1                     0                           0   \n",
       "2                     0                           0   \n",
       "3                     0                           0   \n",
       "4                     0                           0   \n",
       "\n",
       "   education_working on college/university  education_working on high school  \\\n",
       "0                                        1                                 0   \n",
       "1                                        0                                 0   \n",
       "2                                        0                                 0   \n",
       "3                                        0                                 0   \n",
       "4                                        0                                 0   \n",
       "\n",
       "   education_working on law school  education_working on masters program  \\\n",
       "0                                0                                     0   \n",
       "1                                0                                     0   \n",
       "2                                0                                     0   \n",
       "3                                0                                     0   \n",
       "4                                0                                     0   \n",
       "\n",
       "   education_working on med school  education_working on ph.d program  \\\n",
       "0                                0                                  0   \n",
       "1                                0                                  0   \n",
       "2                                0                                  0   \n",
       "3                                0                                  0   \n",
       "4                                0                                  0   \n",
       "\n",
       "   education_working on space camp  education_working on two-year college  \n",
       "0                                0                                      0  \n",
       "1                                1                                      0  \n",
       "2                                0                                      0  \n",
       "3                                0                                      0  \n",
       "4                                0                                      0  \n",
       "\n",
       "[5 rows x 46 columns]"
      ]
     },
     "execution_count": 33,
     "metadata": {},
     "output_type": "execute_result"
    }
   ],
   "source": [
    "#create new dataframe to work with, excluding ethnicity and sign\n",
    "cols=[\"height_normed\", 'sex', 'drinks', 'drugs', 'education', 'body_type']\n",
    "df2=data[cols].dropna()\n",
    "df2=df2.reset_index()\n",
    "\n",
    "#encode categorical variables\n",
    "df2=pd.get_dummies(data=df2, columns=['sex', 'drinks', 'drugs', 'education'] )\n",
    "df2.head()"
   ]
  },
  {
   "cell_type": "code",
   "execution_count": 34,
   "metadata": {},
   "outputs": [],
   "source": [
    "#split into features and outcome variables\n",
    "df2_features=df2.drop('body_type', axis=1)\n",
    "df2_features.head()\n",
    "df2_outcome=df2['body_type']\n",
    "\n"
   ]
  },
  {
   "cell_type": "code",
   "execution_count": 35,
   "metadata": {},
   "outputs": [],
   "source": [
    "#try knn classifier with new dataset\n",
    "x_train, x_test, y_train, y_test = train_test_split(df2_features, df2_outcome, test_size=.2, random_state=42)\n",
    "k_list=list(range(2, 16))\n",
    "scores=[]\n",
    "\n",
    "for k in k_list: \n",
    "    knn=KNeighborsClassifier(n_neighbors = k)\n",
    "    knn.fit(x_train, y_train)\n",
    "    y_pred=knn.predict(x_test)\n",
    "    accuracy=accuracy_score(y_test, y_pred)\n",
    "    #knn_score=knn.score(x_test, y_test)\n",
    "    scores.append(accuracy)\n"
   ]
  },
  {
   "cell_type": "code",
   "execution_count": 36,
   "metadata": {},
   "outputs": [
    {
     "name": "stdout",
     "output_type": "stream",
     "text": [
      "Best Score:  0.2363220863019223\n",
      "Best K:  12\n"
     ]
    }
   ],
   "source": [
    "best_score_loc=scores.index(max(scores))\n",
    "best_score=max(scores)\n",
    "best_k=k_list[best_score_loc]\n",
    "print(\"Best Score: \" , best_score)\n",
    "print(\"Best K: \", best_k)"
   ]
  },
  {
   "cell_type": "markdown",
   "metadata": {},
   "source": [
    "Using this reduced data set, the results are actually worse, with an accuracy score around 24%. Since removing variables did not help, moving forward the original subset will be used and we will explore other options to try and improve model performance."
   ]
  },
  {
   "cell_type": "markdown",
   "metadata": {},
   "source": [
    "### Implementing a Logistic Regression Classifier"
   ]
  },
  {
   "cell_type": "markdown",
   "metadata": {},
   "source": [
    "Even after adjusting our features, we are still getting a low score with the KNN Classifier. Lets see if we can get a better score with a Logistic Regression Classifier, starting with the original subset of features. ​Even after adjusting our features, we are still getting a low score with the KNN Classifier. When a logistic regression is initiated and trained,  it produces an accuracy score of around 28%."
   ]
  },
  {
   "cell_type": "code",
   "execution_count": 37,
   "metadata": {},
   "outputs": [],
   "source": [
    "#import required library logistic regression\n",
    "from sklearn.linear_model import LogisticRegression"
   ]
  },
  {
   "cell_type": "code",
   "execution_count": 38,
   "metadata": {},
   "outputs": [],
   "source": [
    "#split into test and train sets\n",
    "x_train, x_test, y_train, y_test = train_test_split(df_features, df_outcome, test_size=.2, random_state=42)"
   ]
  },
  {
   "cell_type": "code",
   "execution_count": 39,
   "metadata": {},
   "outputs": [
    {
     "name": "stdout",
     "output_type": "stream",
     "text": [
      "Logistic Regression Model Score:  0.282711066263034\n"
     ]
    }
   ],
   "source": [
    "#train model and print resulting accuracy score\n",
    "model=LogisticRegression()\n",
    "model.fit(x_train, y_train)\n",
    "print(\"Logistic Regression Model Score: \", model.score(x_test, y_test))"
   ]
  },
  {
   "cell_type": "markdown",
   "metadata": {},
   "source": [
    "### Implementing a Decision Tree Classifier"
   ]
  },
  {
   "cell_type": "markdown",
   "metadata": {},
   "source": [
    "Our Logistic Regression Classifier performed slightly better than our KNN Classifier, but still did not perform great. Let's see if we can beat that score with a decision tree classifier. Similar to the way different K values were tested with the KNN classifier, different maximum depths of decision tree classifiers can be tested to find what max depth produces the best score. Maximum depths of 1 through 10 were tested. The best results were with a decision tree with a maximum depth of only four, producing a score of .30. This is another slight improvement over the Logistic Regression Classifier\n"
   ]
  },
  {
   "cell_type": "code",
   "execution_count": 40,
   "metadata": {},
   "outputs": [],
   "source": [
    "#import library for decision tree classifier\n",
    "from sklearn.tree import DecisionTreeClassifier\n"
   ]
  },
  {
   "cell_type": "markdown",
   "metadata": {},
   "source": [
    "#### Determining Best Depth"
   ]
  },
  {
   "cell_type": "code",
   "execution_count": 41,
   "metadata": {},
   "outputs": [],
   "source": [
    "#create list of depths to test\n",
    "depths=list(range(1, 11))\n",
    "scores=[]\n",
    "\n",
    "#try each depth and store resulting accuracy score\n",
    "for depth in depths: \n",
    "    dtree=DecisionTreeClassifier(max_depth=depth)\n",
    "    dtree.fit(x_train, y_train)\n",
    "    score=dtree.score(x_test, y_test)\n",
    "    scores.append(score)\n",
    "\n",
    "    \n"
   ]
  },
  {
   "cell_type": "code",
   "execution_count": 42,
   "metadata": {},
   "outputs": [
    {
     "name": "stdout",
     "output_type": "stream",
     "text": [
      "Best Score:  0.3003699966363942\n",
      "Best Depth:  4\n"
     ]
    }
   ],
   "source": [
    "#find best score and corresponding depth \n",
    "best_score=max(scores)\n",
    "best_score_loc=scores.index(best_score)\n",
    "best_depth=depths[best_score_loc]\n",
    "print('Best Score: ', best_score)\n",
    "print(\"Best Depth: \", best_depth)"
   ]
  },
  {
   "cell_type": "markdown",
   "metadata": {},
   "source": [
    "### Logistic Regression with Regularization"
   ]
  },
  {
   "cell_type": "markdown",
   "metadata": {},
   "source": [
    "Our Decision Tree Classifier performs slightly better than our Linear Regression Classifier. Lets see if we can improve our performance with regularization"
   ]
  },
  {
   "cell_type": "markdown",
   "metadata": {},
   "source": [
    "#### Ridge Regulariation "
   ]
  },
  {
   "cell_type": "markdown",
   "metadata": {},
   "source": [
    "Lets revisit the logistig regression classifier, but this time with Ridge regularization. We'll tune the hyperparameter C, then fit a logistic regression classifier with our chosen C and ridge regularization"
   ]
  },
  {
   "cell_type": "code",
   "execution_count": 43,
   "metadata": {},
   "outputs": [],
   "source": [
    "#import necessary libraries\n",
    "from sklearn.model_selection import GridSearchCV\n",
    "from sklearn.linear_model import Lasso\n",
    "from sklearn.linear_model import LogisticRegressionCV"
   ]
  },
  {
   "cell_type": "code",
   "execution_count": 44,
   "metadata": {},
   "outputs": [
    {
     "name": "stdout",
     "output_type": "stream",
     "text": [
      "44.30621457583877\n"
     ]
    }
   ],
   "source": [
    "#create list of C values to try, iterate though and find C that results in highest accuracy\n",
    "C_array=np.logspace(-3, 2, 100)\n",
    "model=LogisticRegressionCV(Cs=C_array, penalty='l2', scoring = 'accuracy', cv=5, random_state=40, max_iter=100000)\n",
    "model.fit(x_train, y_train)\n",
    "best_C=model.C_.mean()\n",
    "print(best_C)"
   ]
  },
  {
   "cell_type": "code",
   "execution_count": 45,
   "metadata": {},
   "outputs": [
    {
     "name": "stdout",
     "output_type": "stream",
     "text": [
      "Ridge Regularized Logistic Regression Score:  0.28321560713084426\n"
     ]
    }
   ],
   "source": [
    "#create logistic regression model with best C found above\n",
    "lr_model=LogisticRegression(penalty = 'l2', solver = 'liblinear', C=best_C)\n",
    "lr_model.fit(x_train, y_train)\n",
    "score=lr_model.score(x_test, y_test)\n",
    "print(\"Ridge Regularized Logistic Regression Score: \", score)"
   ]
  },
  {
   "cell_type": "markdown",
   "metadata": {},
   "source": [
    "### Random Forest Classifier"
   ]
  },
  {
   "cell_type": "markdown",
   "metadata": {},
   "source": [
    "Of the base models we tried, the decision tree performed the best, so let's try a random forest classifier and see if we can improve our model performance even more. For this model, 100 base Decision Tree Estimators were used to produce the random forest. The Random Forest Classifier may perform differently at different depths than the simple Decision Tree Classifier, so once again depths can be iterated through to try and find the best one for this model. \n",
    "\n",
    "The best depth for this model does end up being different from the Decision Tree Classifier, with a best score at a maximum depth of 12. However, the best score with this model is only a marginal improvement over the simple Decision Tree Classifier. Considering how small the improvement was, it does not seem worth the computational power to generate 100 Decision Trees with this model vs a single Decision Tree Classifier. "
   ]
  },
  {
   "cell_type": "code",
   "execution_count": 50,
   "metadata": {},
   "outputs": [],
   "source": [
    "#import necessary libraries\n",
    "from sklearn.ensemble import RandomForestClassifier\n",
    "from sklearn.ensemble import GradientBoostingClassifier"
   ]
  },
  {
   "cell_type": "code",
   "execution_count": 51,
   "metadata": {},
   "outputs": [],
   "source": [
    "#create list of depths to try\n",
    "depths = list(range(1, 11))\n",
    "accuracies=[]\n",
    "\n",
    "#find accuracy at each depth tested\n",
    "for depth in depths: \n",
    "    rf=RandomForestClassifier(max_depth = depth, n_estimators=100)\n",
    "    rf.fit(x_train, y_train)\n",
    "    accuracy=rf.score(x_test, y_test)\n",
    "    accuracies.append(accuracy)\n"
   ]
  },
  {
   "cell_type": "code",
   "execution_count": 52,
   "metadata": {},
   "outputs": [
    {
     "name": "stdout",
     "output_type": "stream",
     "text": [
      "Best accuracy score:  0.30440632357887654\n",
      "Best decision tree depth:  10\n"
     ]
    }
   ],
   "source": [
    "#find best accuracy and the depth it corresponds to \n",
    "best_score=max(accuracies)\n",
    "best_score_loc=accuracies.index(best_score)\n",
    "best_depth=depths[best_score_loc]\n",
    "print(\"Best accuracy score: \", best_score)\n",
    "print(\"Best decision tree depth: \", best_depth)"
   ]
  },
  {
   "cell_type": "code",
   "execution_count": null,
   "metadata": {},
   "outputs": [],
   "source": []
  },
  {
   "cell_type": "code",
   "execution_count": 53,
   "metadata": {},
   "outputs": [
    {
     "name": "stdout",
     "output_type": "stream",
     "text": [
      "0.29616548940464177\n"
     ]
    }
   ],
   "source": [
    "grad_classifier= GradientBoostingClassifier(n_estimators=100)\n",
    "grad_classifier.fit(x_train, y_train)\n",
    "y_pred=grad_classifier.predict(x_test)\n",
    "accuracy=accuracy_score(y_test, y_pred)\n",
    "print(accuracy)"
   ]
  },
  {
   "cell_type": "markdown",
   "metadata": {},
   "source": [
    "## Conclusion and Next Steps"
   ]
  },
  {
   "cell_type": "markdown",
   "metadata": {},
   "source": [
    "With all the different models tried, the best accuracy the machine learning algorithms could achieve is around 30%. Considering there are 12 possible categories, this model is better than random guessing, but still not very accurate. The next steps for this analysis would be to use filter selection methods to see if there is a better subset of features that could predict body type with better accuracy. Perhaps self-reported body type is not a very predictable variable, and a different one would be better suited for prediction. "
   ]
  },
  {
   "cell_type": "code",
   "execution_count": null,
   "metadata": {},
   "outputs": [],
   "source": []
  }
 ],
 "metadata": {
  "kernelspec": {
   "display_name": "Python 3 (ipykernel)",
   "language": "python",
   "name": "python3"
  },
  "language_info": {
   "codemirror_mode": {
    "name": "ipython",
    "version": 3
   },
   "file_extension": ".py",
   "mimetype": "text/x-python",
   "name": "python",
   "nbconvert_exporter": "python",
   "pygments_lexer": "ipython3",
   "version": "3.11.4"
  }
 },
 "nbformat": 4,
 "nbformat_minor": 4
}
